{
 "cells": [
  {
   "cell_type": "code",
   "execution_count": 2,
   "id": "9d55a5f3",
   "metadata": {},
   "outputs": [],
   "source": [
    "import pandas as pd \n",
    "import seaborn as sns\n",
    "import matplotlib.pyplot as plt\n",
    "import numpy as np\n",
    "from sklearn.preprocessing import OneHotEncoder, StandardScaler, MinMaxScaler \n",
    "from sklearn.model_selection import GridSearchCV, train_test_split, KFold, cross_val_score\n",
    "from sklearn.linear_model import LinearRegression\n",
    "from sklearn.metrics import r2_score, mean_squared_error, accuracy_score, mean_absolute_error, mean_squared_error\n",
    "from sklearn.ensemble import GradientBoostingRegressor\n",
    "from sklearn.neural_network import MLPRegressor\n",
    "from sklearn.svm import SVR\n",
    "from sklearn.neighbors import KNeighborsRegressor\n",
    "from sklearn.cross_decomposition import PLSRegression\n",
    "from sklearn.tree import DecisionTreeRegressor\n",
    "import missingno as msno\n",
    "from sklearn.utils import shuffle \n",
    "from category_encoders import TargetEncoder, OneHotEncoder\n",
    "import warnings\n",
    "warnings.filterwarnings(\"ignore\")\n",
    "sns.set(rc = {'figure.figsize': (20, 20)})\n",
    "%matplotlib inline "
   ]
  },
  {
   "cell_type": "code",
   "execution_count": 3,
   "id": "e2975bfe",
   "metadata": {},
   "outputs": [],
   "source": [
    "car = pd.read_csv(\"C:/Users/abink/OneDrive/Desktop/BAI sem 3/4 - ADMN 5016 - Joseph Santarcangelo/data_car.csv\")"
   ]
  },
  {
   "cell_type": "code",
   "execution_count": 5,
   "id": "87316587",
   "metadata": {},
   "outputs": [
    {
     "data": {
      "text/plain": [
       "(11914, 16)"
      ]
     },
     "execution_count": 5,
     "metadata": {},
     "output_type": "execute_result"
    }
   ],
   "source": [
    "car.shape"
   ]
  },
  {
   "cell_type": "code",
   "execution_count": 6,
   "id": "334989e0",
   "metadata": {},
   "outputs": [
    {
     "data": {
      "text/html": [
       "<div>\n",
       "<style scoped>\n",
       "    .dataframe tbody tr th:only-of-type {\n",
       "        vertical-align: middle;\n",
       "    }\n",
       "\n",
       "    .dataframe tbody tr th {\n",
       "        vertical-align: top;\n",
       "    }\n",
       "\n",
       "    .dataframe thead th {\n",
       "        text-align: right;\n",
       "    }\n",
       "</style>\n",
       "<table border=\"1\" class=\"dataframe\">\n",
       "  <thead>\n",
       "    <tr style=\"text-align: right;\">\n",
       "      <th></th>\n",
       "      <th>Make</th>\n",
       "      <th>Model</th>\n",
       "      <th>Year</th>\n",
       "      <th>Engine Fuel Type</th>\n",
       "      <th>Engine HP</th>\n",
       "      <th>Engine Cylinders</th>\n",
       "      <th>Transmission Type</th>\n",
       "      <th>Driven_Wheels</th>\n",
       "      <th>Number of Doors</th>\n",
       "      <th>Market Category</th>\n",
       "      <th>Vehicle Size</th>\n",
       "      <th>Vehicle Style</th>\n",
       "      <th>highway MPG</th>\n",
       "      <th>city mpg</th>\n",
       "      <th>Popularity</th>\n",
       "      <th>MSRP</th>\n",
       "    </tr>\n",
       "  </thead>\n",
       "  <tbody>\n",
       "    <tr>\n",
       "      <th>0</th>\n",
       "      <td>BMW</td>\n",
       "      <td>1 Series M</td>\n",
       "      <td>2011</td>\n",
       "      <td>premium unleaded (required)</td>\n",
       "      <td>335.0</td>\n",
       "      <td>6.0</td>\n",
       "      <td>MANUAL</td>\n",
       "      <td>rear wheel drive</td>\n",
       "      <td>2.0</td>\n",
       "      <td>Factory Tuner,Luxury,High-Performance</td>\n",
       "      <td>Compact</td>\n",
       "      <td>Coupe</td>\n",
       "      <td>26</td>\n",
       "      <td>19</td>\n",
       "      <td>3916</td>\n",
       "      <td>46135</td>\n",
       "    </tr>\n",
       "    <tr>\n",
       "      <th>1</th>\n",
       "      <td>BMW</td>\n",
       "      <td>1 Series</td>\n",
       "      <td>2011</td>\n",
       "      <td>premium unleaded (required)</td>\n",
       "      <td>300.0</td>\n",
       "      <td>6.0</td>\n",
       "      <td>MANUAL</td>\n",
       "      <td>rear wheel drive</td>\n",
       "      <td>2.0</td>\n",
       "      <td>Luxury,Performance</td>\n",
       "      <td>Compact</td>\n",
       "      <td>Convertible</td>\n",
       "      <td>28</td>\n",
       "      <td>19</td>\n",
       "      <td>3916</td>\n",
       "      <td>40650</td>\n",
       "    </tr>\n",
       "    <tr>\n",
       "      <th>2</th>\n",
       "      <td>BMW</td>\n",
       "      <td>1 Series</td>\n",
       "      <td>2011</td>\n",
       "      <td>premium unleaded (required)</td>\n",
       "      <td>300.0</td>\n",
       "      <td>6.0</td>\n",
       "      <td>MANUAL</td>\n",
       "      <td>rear wheel drive</td>\n",
       "      <td>2.0</td>\n",
       "      <td>Luxury,High-Performance</td>\n",
       "      <td>Compact</td>\n",
       "      <td>Coupe</td>\n",
       "      <td>28</td>\n",
       "      <td>20</td>\n",
       "      <td>3916</td>\n",
       "      <td>36350</td>\n",
       "    </tr>\n",
       "    <tr>\n",
       "      <th>3</th>\n",
       "      <td>BMW</td>\n",
       "      <td>1 Series</td>\n",
       "      <td>2011</td>\n",
       "      <td>premium unleaded (required)</td>\n",
       "      <td>230.0</td>\n",
       "      <td>6.0</td>\n",
       "      <td>MANUAL</td>\n",
       "      <td>rear wheel drive</td>\n",
       "      <td>2.0</td>\n",
       "      <td>Luxury,Performance</td>\n",
       "      <td>Compact</td>\n",
       "      <td>Coupe</td>\n",
       "      <td>28</td>\n",
       "      <td>18</td>\n",
       "      <td>3916</td>\n",
       "      <td>29450</td>\n",
       "    </tr>\n",
       "    <tr>\n",
       "      <th>4</th>\n",
       "      <td>BMW</td>\n",
       "      <td>1 Series</td>\n",
       "      <td>2011</td>\n",
       "      <td>premium unleaded (required)</td>\n",
       "      <td>230.0</td>\n",
       "      <td>6.0</td>\n",
       "      <td>MANUAL</td>\n",
       "      <td>rear wheel drive</td>\n",
       "      <td>2.0</td>\n",
       "      <td>Luxury</td>\n",
       "      <td>Compact</td>\n",
       "      <td>Convertible</td>\n",
       "      <td>28</td>\n",
       "      <td>18</td>\n",
       "      <td>3916</td>\n",
       "      <td>34500</td>\n",
       "    </tr>\n",
       "  </tbody>\n",
       "</table>\n",
       "</div>"
      ],
      "text/plain": [
       "  Make       Model  Year             Engine Fuel Type  Engine HP  \\\n",
       "0  BMW  1 Series M  2011  premium unleaded (required)      335.0   \n",
       "1  BMW    1 Series  2011  premium unleaded (required)      300.0   \n",
       "2  BMW    1 Series  2011  premium unleaded (required)      300.0   \n",
       "3  BMW    1 Series  2011  premium unleaded (required)      230.0   \n",
       "4  BMW    1 Series  2011  premium unleaded (required)      230.0   \n",
       "\n",
       "   Engine Cylinders Transmission Type     Driven_Wheels  Number of Doors  \\\n",
       "0               6.0            MANUAL  rear wheel drive              2.0   \n",
       "1               6.0            MANUAL  rear wheel drive              2.0   \n",
       "2               6.0            MANUAL  rear wheel drive              2.0   \n",
       "3               6.0            MANUAL  rear wheel drive              2.0   \n",
       "4               6.0            MANUAL  rear wheel drive              2.0   \n",
       "\n",
       "                         Market Category Vehicle Size Vehicle Style  \\\n",
       "0  Factory Tuner,Luxury,High-Performance      Compact         Coupe   \n",
       "1                     Luxury,Performance      Compact   Convertible   \n",
       "2                Luxury,High-Performance      Compact         Coupe   \n",
       "3                     Luxury,Performance      Compact         Coupe   \n",
       "4                                 Luxury      Compact   Convertible   \n",
       "\n",
       "   highway MPG  city mpg  Popularity   MSRP  \n",
       "0           26        19        3916  46135  \n",
       "1           28        19        3916  40650  \n",
       "2           28        20        3916  36350  \n",
       "3           28        18        3916  29450  \n",
       "4           28        18        3916  34500  "
      ]
     },
     "execution_count": 6,
     "metadata": {},
     "output_type": "execute_result"
    }
   ],
   "source": [
    "car.head()"
   ]
  },
  {
   "cell_type": "code",
   "execution_count": 8,
   "id": "6e396bd5",
   "metadata": {},
   "outputs": [
    {
     "data": {
      "image/png": "[encoded data removed]",
      "text/plain": [
       "<Figure size 1440x1080 with 1 Axes>"
      ]
     },
     "metadata": {
      "needs_background": "light"
     },
     "output_type": "display_data"
    }
   ],
   "source": [
    "plt.figure(figsize = (20, 15))\n",
    "sns.countplot(y = car.Make)\n",
    "plt.title(\"Car companies and car models\", fontsize = 20)\n",
    "plt.show()"
   ]
  },
  {
   "cell_type": "code",
   "execution_count": 9,
   "id": "2c0f54d4",
   "metadata": {},
   "outputs": [
    {
     "data": {
      "image/png": "[encoded data removed]",
      "text/plain": [
       "<Figure size 720x720 with 1 Axes>"
      ]
     },
     "metadata": {
      "needs_background": "light"
     },
     "output_type": "display_data"
    }
   ],
   "source": [
    "plt.figure(figsize = (10, 10))\n",
    "sns.countplot(car['Transmission Type'], palette = 'Paired')\n",
    "plt.title(\"Transmission Type\", fontsize = 20)\n",
    "plt.show()"
   ]
  },
  {
   "cell_type": "code",
   "execution_count": 12,
   "id": "d7d2ccb3",
   "metadata": {},
   "outputs": [
    {
     "data": {
      "text/plain": [
       "<AxesSubplot:xlabel='count', ylabel='Engine Fuel Type'>"
      ]
     },
     "execution_count": 12,
     "metadata": {},
     "output_type": "execute_result"
    },
    {
     "data": {
      "image/png": "[encoded data removed]",
      "text/plain": [
       "<Figure size 1080x720 with 1 Axes>"
      ]
     },
     "metadata": {
      "needs_background": "light"
     },
     "output_type": "display_data"
    }
   ],
   "source": [
    "plt.figure(figsize = (15, 10))\n",
    "sns.countplot(y = car['Engine Fuel Type'].sort_values(ascending = False), palette = 'Dark2')"
   ]
  },
  {
   "cell_type": "code",
   "execution_count": 14,
   "id": "53ab17d2",
   "metadata": {},
   "outputs": [
    {
     "data": {
      "text/html": [
       "<div>\n",
       "<style scoped>\n",
       "    .dataframe tbody tr th:only-of-type {\n",
       "        vertical-align: middle;\n",
       "    }\n",
       "\n",
       "    .dataframe tbody tr th {\n",
       "        vertical-align: top;\n",
       "    }\n",
       "\n",
       "    .dataframe thead tr th {\n",
       "        text-align: left;\n",
       "    }\n",
       "\n",
       "    .dataframe thead tr:last-of-type th {\n",
       "        text-align: right;\n",
       "    }\n",
       "</style>\n",
       "<table border=\"1\" class=\"dataframe\">\n",
       "  <thead>\n",
       "    <tr>\n",
       "      <th></th>\n",
       "      <th colspan=\"3\" halign=\"left\">Engine HP</th>\n",
       "      <th colspan=\"3\" halign=\"left\">Engine Cylinders</th>\n",
       "      <th colspan=\"3\" halign=\"left\">highway MPG</th>\n",
       "      <th colspan=\"3\" halign=\"left\">city mpg</th>\n",
       "    </tr>\n",
       "    <tr>\n",
       "      <th></th>\n",
       "      <th>min</th>\n",
       "      <th>max</th>\n",
       "      <th>mean</th>\n",
       "      <th>min</th>\n",
       "      <th>max</th>\n",
       "      <th>mean</th>\n",
       "      <th>min</th>\n",
       "      <th>max</th>\n",
       "      <th>mean</th>\n",
       "      <th>min</th>\n",
       "      <th>max</th>\n",
       "      <th>mean</th>\n",
       "    </tr>\n",
       "    <tr>\n",
       "      <th>Make</th>\n",
       "      <th></th>\n",
       "      <th></th>\n",
       "      <th></th>\n",
       "      <th></th>\n",
       "      <th></th>\n",
       "      <th></th>\n",
       "      <th></th>\n",
       "      <th></th>\n",
       "      <th></th>\n",
       "      <th></th>\n",
       "      <th></th>\n",
       "      <th></th>\n",
       "    </tr>\n",
       "  </thead>\n",
       "  <tbody>\n",
       "    <tr>\n",
       "      <th>Acura</th>\n",
       "      <td>111.0</td>\n",
       "      <td>573.0</td>\n",
       "      <td>244.797619</td>\n",
       "      <td>4.0</td>\n",
       "      <td>6.0</td>\n",
       "      <td>5.333333</td>\n",
       "      <td>17</td>\n",
       "      <td>38</td>\n",
       "      <td>28.111111</td>\n",
       "      <td>13</td>\n",
       "      <td>39</td>\n",
       "      <td>19.940476</td>\n",
       "    </tr>\n",
       "    <tr>\n",
       "      <th>Alfa Romeo</th>\n",
       "      <td>237.0</td>\n",
       "      <td>237.0</td>\n",
       "      <td>237.000000</td>\n",
       "      <td>4.0</td>\n",
       "      <td>4.0</td>\n",
       "      <td>4.000000</td>\n",
       "      <td>34</td>\n",
       "      <td>34</td>\n",
       "      <td>34.000000</td>\n",
       "      <td>24</td>\n",
       "      <td>24</td>\n",
       "      <td>24.000000</td>\n",
       "    </tr>\n",
       "    <tr>\n",
       "      <th>Aston Martin</th>\n",
       "      <td>420.0</td>\n",
       "      <td>568.0</td>\n",
       "      <td>484.322581</td>\n",
       "      <td>8.0</td>\n",
       "      <td>12.0</td>\n",
       "      <td>10.623656</td>\n",
       "      <td>15</td>\n",
       "      <td>22</td>\n",
       "      <td>18.892473</td>\n",
       "      <td>9</td>\n",
       "      <td>14</td>\n",
       "      <td>12.526882</td>\n",
       "    </tr>\n",
       "    <tr>\n",
       "      <th>Audi</th>\n",
       "      <td>108.0</td>\n",
       "      <td>610.0</td>\n",
       "      <td>277.695122</td>\n",
       "      <td>4.0</td>\n",
       "      <td>12.0</td>\n",
       "      <td>5.557927</td>\n",
       "      <td>18</td>\n",
       "      <td>354</td>\n",
       "      <td>28.823171</td>\n",
       "      <td>11</td>\n",
       "      <td>31</td>\n",
       "      <td>19.585366</td>\n",
       "    </tr>\n",
       "    <tr>\n",
       "      <th>BMW</th>\n",
       "      <td>170.0</td>\n",
       "      <td>600.0</td>\n",
       "      <td>326.907186</td>\n",
       "      <td>0.0</td>\n",
       "      <td>12.0</td>\n",
       "      <td>5.958084</td>\n",
       "      <td>18</td>\n",
       "      <td>111</td>\n",
       "      <td>29.245509</td>\n",
       "      <td>10</td>\n",
       "      <td>137</td>\n",
       "      <td>20.739521</td>\n",
       "    </tr>\n",
       "    <tr>\n",
       "      <th>Bentley</th>\n",
       "      <td>400.0</td>\n",
       "      <td>631.0</td>\n",
       "      <td>533.851351</td>\n",
       "      <td>8.0</td>\n",
       "      <td>12.0</td>\n",
       "      <td>9.729730</td>\n",
       "      <td>14</td>\n",
       "      <td>25</td>\n",
       "      <td>18.905405</td>\n",
       "      <td>9</td>\n",
       "      <td>15</td>\n",
       "      <td>11.554054</td>\n",
       "    </tr>\n",
       "    <tr>\n",
       "      <th>Bugatti</th>\n",
       "      <td>1001.0</td>\n",
       "      <td>1001.0</td>\n",
       "      <td>1001.000000</td>\n",
       "      <td>16.0</td>\n",
       "      <td>16.0</td>\n",
       "      <td>16.000000</td>\n",
       "      <td>14</td>\n",
       "      <td>14</td>\n",
       "      <td>14.000000</td>\n",
       "      <td>8</td>\n",
       "      <td>8</td>\n",
       "      <td>8.000000</td>\n",
       "    </tr>\n",
       "    <tr>\n",
       "      <th>Buick</th>\n",
       "      <td>138.0</td>\n",
       "      <td>310.0</td>\n",
       "      <td>219.244898</td>\n",
       "      <td>4.0</td>\n",
       "      <td>8.0</td>\n",
       "      <td>5.316327</td>\n",
       "      <td>19</td>\n",
       "      <td>36</td>\n",
       "      <td>26.948980</td>\n",
       "      <td>14</td>\n",
       "      <td>28</td>\n",
       "      <td>18.704082</td>\n",
       "    </tr>\n",
       "    <tr>\n",
       "      <th>Cadillac</th>\n",
       "      <td>140.0</td>\n",
       "      <td>640.0</td>\n",
       "      <td>332.309824</td>\n",
       "      <td>4.0</td>\n",
       "      <td>8.0</td>\n",
       "      <td>6.433249</td>\n",
       "      <td>18</td>\n",
       "      <td>33</td>\n",
       "      <td>25.236776</td>\n",
       "      <td>12</td>\n",
       "      <td>22</td>\n",
       "      <td>17.355164</td>\n",
       "    </tr>\n",
       "    <tr>\n",
       "      <th>Chevrolet</th>\n",
       "      <td>55.0</td>\n",
       "      <td>650.0</td>\n",
       "      <td>246.972247</td>\n",
       "      <td>0.0</td>\n",
       "      <td>8.0</td>\n",
       "      <td>5.908118</td>\n",
       "      <td>15</td>\n",
       "      <td>110</td>\n",
       "      <td>25.815672</td>\n",
       "      <td>11</td>\n",
       "      <td>128</td>\n",
       "      <td>19.021371</td>\n",
       "    </tr>\n",
       "    <tr>\n",
       "      <th>Chrysler</th>\n",
       "      <td>100.0</td>\n",
       "      <td>385.0</td>\n",
       "      <td>229.139037</td>\n",
       "      <td>4.0</td>\n",
       "      <td>8.0</td>\n",
       "      <td>5.593583</td>\n",
       "      <td>17</td>\n",
       "      <td>36</td>\n",
       "      <td>26.368984</td>\n",
       "      <td>12</td>\n",
       "      <td>23</td>\n",
       "      <td>17.759358</td>\n",
       "    </tr>\n",
       "    <tr>\n",
       "      <th>Dodge</th>\n",
       "      <td>92.0</td>\n",
       "      <td>707.0</td>\n",
       "      <td>244.415335</td>\n",
       "      <td>4.0</td>\n",
       "      <td>10.0</td>\n",
       "      <td>6.258786</td>\n",
       "      <td>12</td>\n",
       "      <td>41</td>\n",
       "      <td>22.345048</td>\n",
       "      <td>10</td>\n",
       "      <td>28</td>\n",
       "      <td>16.065495</td>\n",
       "    </tr>\n",
       "    <tr>\n",
       "      <th>FIAT</th>\n",
       "      <td>101.0</td>\n",
       "      <td>180.0</td>\n",
       "      <td>143.559322</td>\n",
       "      <td>0.0</td>\n",
       "      <td>4.0</td>\n",
       "      <td>3.806452</td>\n",
       "      <td>29</td>\n",
       "      <td>108</td>\n",
       "      <td>37.338710</td>\n",
       "      <td>21</td>\n",
       "      <td>122</td>\n",
       "      <td>30.645161</td>\n",
       "    </tr>\n",
       "    <tr>\n",
       "      <th>Ferrari</th>\n",
       "      <td>400.0</td>\n",
       "      <td>731.0</td>\n",
       "      <td>511.956522</td>\n",
       "      <td>8.0</td>\n",
       "      <td>12.0</td>\n",
       "      <td>9.797101</td>\n",
       "      <td>12</td>\n",
       "      <td>23</td>\n",
       "      <td>15.724638</td>\n",
       "      <td>7</td>\n",
       "      <td>16</td>\n",
       "      <td>10.565217</td>\n",
       "    </tr>\n",
       "    <tr>\n",
       "      <th>Ford</th>\n",
       "      <td>63.0</td>\n",
       "      <td>662.0</td>\n",
       "      <td>243.097926</td>\n",
       "      <td>0.0</td>\n",
       "      <td>8.0</td>\n",
       "      <td>5.914869</td>\n",
       "      <td>13</td>\n",
       "      <td>99</td>\n",
       "      <td>24.006810</td>\n",
       "      <td>11</td>\n",
       "      <td>110</td>\n",
       "      <td>17.960272</td>\n",
       "    </tr>\n",
       "    <tr>\n",
       "      <th>GMC</th>\n",
       "      <td>105.0</td>\n",
       "      <td>420.0</td>\n",
       "      <td>259.844660</td>\n",
       "      <td>4.0</td>\n",
       "      <td>8.0</td>\n",
       "      <td>6.454369</td>\n",
       "      <td>13</td>\n",
       "      <td>32</td>\n",
       "      <td>21.403883</td>\n",
       "      <td>10</td>\n",
       "      <td>22</td>\n",
       "      <td>15.813592</td>\n",
       "    </tr>\n",
       "    <tr>\n",
       "      <th>Genesis</th>\n",
       "      <td>311.0</td>\n",
       "      <td>420.0</td>\n",
       "      <td>347.333333</td>\n",
       "      <td>6.0</td>\n",
       "      <td>8.0</td>\n",
       "      <td>6.666667</td>\n",
       "      <td>23</td>\n",
       "      <td>28</td>\n",
       "      <td>25.333333</td>\n",
       "      <td>15</td>\n",
       "      <td>18</td>\n",
       "      <td>16.333333</td>\n",
       "    </tr>\n",
       "    <tr>\n",
       "      <th>HUMMER</th>\n",
       "      <td>239.0</td>\n",
       "      <td>300.0</td>\n",
       "      <td>261.235294</td>\n",
       "      <td>5.0</td>\n",
       "      <td>8.0</td>\n",
       "      <td>6.058824</td>\n",
       "      <td>16</td>\n",
       "      <td>18</td>\n",
       "      <td>17.294118</td>\n",
       "      <td>13</td>\n",
       "      <td>14</td>\n",
       "      <td>13.529412</td>\n",
       "    </tr>\n",
       "    <tr>\n",
       "      <th>Honda</th>\n",
       "      <td>62.0</td>\n",
       "      <td>280.0</td>\n",
       "      <td>195.749441</td>\n",
       "      <td>0.0</td>\n",
       "      <td>6.0</td>\n",
       "      <td>4.659243</td>\n",
       "      <td>18</td>\n",
       "      <td>105</td>\n",
       "      <td>32.574610</td>\n",
       "      <td>14</td>\n",
       "      <td>132</td>\n",
       "      <td>25.443207</td>\n",
       "    </tr>\n",
       "    <tr>\n",
       "      <th>Hyundai</th>\n",
       "      <td>81.0</td>\n",
       "      <td>429.0</td>\n",
       "      <td>201.917492</td>\n",
       "      <td>4.0</td>\n",
       "      <td>8.0</td>\n",
       "      <td>4.666667</td>\n",
       "      <td>21</td>\n",
       "      <td>45</td>\n",
       "      <td>30.392739</td>\n",
       "      <td>15</td>\n",
       "      <td>40</td>\n",
       "      <td>22.343234</td>\n",
       "    </tr>\n",
       "    <tr>\n",
       "      <th>Infiniti</th>\n",
       "      <td>145.0</td>\n",
       "      <td>420.0</td>\n",
       "      <td>310.066667</td>\n",
       "      <td>4.0</td>\n",
       "      <td>8.0</td>\n",
       "      <td>6.151515</td>\n",
       "      <td>17</td>\n",
       "      <td>36</td>\n",
       "      <td>24.778788</td>\n",
       "      <td>12</td>\n",
       "      <td>29</td>\n",
       "      <td>17.827273</td>\n",
       "    </tr>\n",
       "    <tr>\n",
       "      <th>Kia</th>\n",
       "      <td>125.0</td>\n",
       "      <td>420.0</td>\n",
       "      <td>206.827434</td>\n",
       "      <td>0.0</td>\n",
       "      <td>8.0</td>\n",
       "      <td>4.588745</td>\n",
       "      <td>20</td>\n",
       "      <td>92</td>\n",
       "      <td>30.653680</td>\n",
       "      <td>15</td>\n",
       "      <td>120</td>\n",
       "      <td>23.848485</td>\n",
       "    </tr>\n",
       "    <tr>\n",
       "      <th>Lamborghini</th>\n",
       "      <td>550.0</td>\n",
       "      <td>750.0</td>\n",
       "      <td>614.076923</td>\n",
       "      <td>10.0</td>\n",
       "      <td>12.0</td>\n",
       "      <td>10.884615</td>\n",
       "      <td>12</td>\n",
       "      <td>21</td>\n",
       "      <td>18.019231</td>\n",
       "      <td>8</td>\n",
       "      <td>15</td>\n",
       "      <td>11.519231</td>\n",
       "    </tr>\n",
       "    <tr>\n",
       "      <th>Land Rover</th>\n",
       "      <td>174.0</td>\n",
       "      <td>550.0</td>\n",
       "      <td>322.097902</td>\n",
       "      <td>4.0</td>\n",
       "      <td>8.0</td>\n",
       "      <td>6.125874</td>\n",
       "      <td>14</td>\n",
       "      <td>30</td>\n",
       "      <td>22.125874</td>\n",
       "      <td>11</td>\n",
       "      <td>22</td>\n",
       "      <td>16.230769</td>\n",
       "    </tr>\n",
       "    <tr>\n",
       "      <th>Lexus</th>\n",
       "      <td>134.0</td>\n",
       "      <td>552.0</td>\n",
       "      <td>277.415842</td>\n",
       "      <td>4.0</td>\n",
       "      <td>10.0</td>\n",
       "      <td>6.247525</td>\n",
       "      <td>14</td>\n",
       "      <td>40</td>\n",
       "      <td>25.876238</td>\n",
       "      <td>11</td>\n",
       "      <td>43</td>\n",
       "      <td>20.311881</td>\n",
       "    </tr>\n",
       "    <tr>\n",
       "      <th>Lincoln</th>\n",
       "      <td>188.0</td>\n",
       "      <td>380.0</td>\n",
       "      <td>284.910256</td>\n",
       "      <td>4.0</td>\n",
       "      <td>8.0</td>\n",
       "      <td>6.073171</td>\n",
       "      <td>15</td>\n",
       "      <td>39</td>\n",
       "      <td>24.487805</td>\n",
       "      <td>11</td>\n",
       "      <td>41</td>\n",
       "      <td>17.890244</td>\n",
       "    </tr>\n",
       "    <tr>\n",
       "      <th>Lotus</th>\n",
       "      <td>189.0</td>\n",
       "      <td>400.0</td>\n",
       "      <td>275.965517</td>\n",
       "      <td>4.0</td>\n",
       "      <td>8.0</td>\n",
       "      <td>5.241379</td>\n",
       "      <td>21</td>\n",
       "      <td>39</td>\n",
       "      <td>26.551724</td>\n",
       "      <td>14</td>\n",
       "      <td>21</td>\n",
       "      <td>18.758621</td>\n",
       "    </tr>\n",
       "    <tr>\n",
       "      <th>Maserati</th>\n",
       "      <td>345.0</td>\n",
       "      <td>523.0</td>\n",
       "      <td>420.793103</td>\n",
       "      <td>6.0</td>\n",
       "      <td>8.0</td>\n",
       "      <td>7.344828</td>\n",
       "      <td>15</td>\n",
       "      <td>25</td>\n",
       "      <td>20.293103</td>\n",
       "      <td>10</td>\n",
       "      <td>17</td>\n",
       "      <td>13.327586</td>\n",
       "    </tr>\n",
       "    <tr>\n",
       "      <th>Maybach</th>\n",
       "      <td>543.0</td>\n",
       "      <td>631.0</td>\n",
       "      <td>590.500000</td>\n",
       "      <td>12.0</td>\n",
       "      <td>12.0</td>\n",
       "      <td>12.000000</td>\n",
       "      <td>16</td>\n",
       "      <td>16</td>\n",
       "      <td>16.000000</td>\n",
       "      <td>10</td>\n",
       "      <td>10</td>\n",
       "      <td>10.000000</td>\n",
       "    </tr>\n",
       "    <tr>\n",
       "      <th>Mazda</th>\n",
       "      <td>82.0</td>\n",
       "      <td>274.0</td>\n",
       "      <td>171.992908</td>\n",
       "      <td>4.0</td>\n",
       "      <td>6.0</td>\n",
       "      <td>4.615385</td>\n",
       "      <td>17</td>\n",
       "      <td>41</td>\n",
       "      <td>27.851064</td>\n",
       "      <td>14</td>\n",
       "      <td>34</td>\n",
       "      <td>21.245863</td>\n",
       "    </tr>\n",
       "    <tr>\n",
       "      <th>McLaren</th>\n",
       "      <td>562.0</td>\n",
       "      <td>641.0</td>\n",
       "      <td>610.400000</td>\n",
       "      <td>8.0</td>\n",
       "      <td>8.0</td>\n",
       "      <td>8.000000</td>\n",
       "      <td>22</td>\n",
       "      <td>23</td>\n",
       "      <td>22.200000</td>\n",
       "      <td>15</td>\n",
       "      <td>16</td>\n",
       "      <td>15.600000</td>\n",
       "    </tr>\n",
       "    <tr>\n",
       "      <th>Mercedes-Benz</th>\n",
       "      <td>121.0</td>\n",
       "      <td>641.0</td>\n",
       "      <td>350.181818</td>\n",
       "      <td>0.0</td>\n",
       "      <td>12.0</td>\n",
       "      <td>6.711048</td>\n",
       "      <td>13</td>\n",
       "      <td>82</td>\n",
       "      <td>24.830028</td>\n",
       "      <td>10</td>\n",
       "      <td>85</td>\n",
       "      <td>18.181303</td>\n",
       "    </tr>\n",
       "    <tr>\n",
       "      <th>Mitsubishi</th>\n",
       "      <td>66.0</td>\n",
       "      <td>320.0</td>\n",
       "      <td>173.429245</td>\n",
       "      <td>3.0</td>\n",
       "      <td>8.0</td>\n",
       "      <td>4.680952</td>\n",
       "      <td>17</td>\n",
       "      <td>102</td>\n",
       "      <td>27.544601</td>\n",
       "      <td>13</td>\n",
       "      <td>126</td>\n",
       "      <td>21.910798</td>\n",
       "    </tr>\n",
       "    <tr>\n",
       "      <th>Nissan</th>\n",
       "      <td>90.0</td>\n",
       "      <td>600.0</td>\n",
       "      <td>239.921533</td>\n",
       "      <td>0.0</td>\n",
       "      <td>8.0</td>\n",
       "      <td>5.336918</td>\n",
       "      <td>17</td>\n",
       "      <td>101</td>\n",
       "      <td>27.799283</td>\n",
       "      <td>12</td>\n",
       "      <td>126</td>\n",
       "      <td>21.874552</td>\n",
       "    </tr>\n",
       "    <tr>\n",
       "      <th>Oldsmobile</th>\n",
       "      <td>110.0</td>\n",
       "      <td>275.0</td>\n",
       "      <td>177.466667</td>\n",
       "      <td>4.0</td>\n",
       "      <td>8.0</td>\n",
       "      <td>5.573333</td>\n",
       "      <td>19</td>\n",
       "      <td>31</td>\n",
       "      <td>26.233333</td>\n",
       "      <td>13</td>\n",
       "      <td>22</td>\n",
       "      <td>17.606667</td>\n",
       "    </tr>\n",
       "    <tr>\n",
       "      <th>Plymouth</th>\n",
       "      <td>92.0</td>\n",
       "      <td>253.0</td>\n",
       "      <td>131.560976</td>\n",
       "      <td>4.0</td>\n",
       "      <td>6.0</td>\n",
       "      <td>4.390244</td>\n",
       "      <td>21</td>\n",
       "      <td>36</td>\n",
       "      <td>27.963415</td>\n",
       "      <td>15</td>\n",
       "      <td>28</td>\n",
       "      <td>20.792683</td>\n",
       "    </tr>\n",
       "    <tr>\n",
       "      <th>Pontiac</th>\n",
       "      <td>74.0</td>\n",
       "      <td>415.0</td>\n",
       "      <td>190.295699</td>\n",
       "      <td>4.0</td>\n",
       "      <td>8.0</td>\n",
       "      <td>5.483871</td>\n",
       "      <td>19</td>\n",
       "      <td>37</td>\n",
       "      <td>27.069892</td>\n",
       "      <td>13</td>\n",
       "      <td>27</td>\n",
       "      <td>18.682796</td>\n",
       "    </tr>\n",
       "    <tr>\n",
       "      <th>Porsche</th>\n",
       "      <td>208.0</td>\n",
       "      <td>605.0</td>\n",
       "      <td>392.794118</td>\n",
       "      <td>4.0</td>\n",
       "      <td>10.0</td>\n",
       "      <td>6.132353</td>\n",
       "      <td>15</td>\n",
       "      <td>30</td>\n",
       "      <td>25.367647</td>\n",
       "      <td>9</td>\n",
       "      <td>21</td>\n",
       "      <td>17.470588</td>\n",
       "    </tr>\n",
       "    <tr>\n",
       "      <th>Rolls-Royce</th>\n",
       "      <td>322.0</td>\n",
       "      <td>624.0</td>\n",
       "      <td>487.548387</td>\n",
       "      <td>8.0</td>\n",
       "      <td>12.0</td>\n",
       "      <td>11.870968</td>\n",
       "      <td>15</td>\n",
       "      <td>21</td>\n",
       "      <td>19.129032</td>\n",
       "      <td>10</td>\n",
       "      <td>13</td>\n",
       "      <td>11.838710</td>\n",
       "    </tr>\n",
       "    <tr>\n",
       "      <th>Saab</th>\n",
       "      <td>150.0</td>\n",
       "      <td>390.0</td>\n",
       "      <td>220.522523</td>\n",
       "      <td>4.0</td>\n",
       "      <td>8.0</td>\n",
       "      <td>4.540541</td>\n",
       "      <td>16</td>\n",
       "      <td>33</td>\n",
       "      <td>26.351351</td>\n",
       "      <td>12</td>\n",
       "      <td>21</td>\n",
       "      <td>17.765766</td>\n",
       "    </tr>\n",
       "    <tr>\n",
       "      <th>Scion</th>\n",
       "      <td>94.0</td>\n",
       "      <td>200.0</td>\n",
       "      <td>154.433333</td>\n",
       "      <td>4.0</td>\n",
       "      <td>4.0</td>\n",
       "      <td>4.000000</td>\n",
       "      <td>28</td>\n",
       "      <td>42</td>\n",
       "      <td>32.300000</td>\n",
       "      <td>22</td>\n",
       "      <td>36</td>\n",
       "      <td>25.316667</td>\n",
       "    </tr>\n",
       "    <tr>\n",
       "      <th>Spyker</th>\n",
       "      <td>400.0</td>\n",
       "      <td>400.0</td>\n",
       "      <td>400.000000</td>\n",
       "      <td>8.0</td>\n",
       "      <td>8.0</td>\n",
       "      <td>8.000000</td>\n",
       "      <td>18</td>\n",
       "      <td>18</td>\n",
       "      <td>18.000000</td>\n",
       "      <td>13</td>\n",
       "      <td>13</td>\n",
       "      <td>13.000000</td>\n",
       "    </tr>\n",
       "    <tr>\n",
       "      <th>Subaru</th>\n",
       "      <td>66.0</td>\n",
       "      <td>305.0</td>\n",
       "      <td>197.308594</td>\n",
       "      <td>3.0</td>\n",
       "      <td>6.0</td>\n",
       "      <td>4.367188</td>\n",
       "      <td>21</td>\n",
       "      <td>38</td>\n",
       "      <td>28.683594</td>\n",
       "      <td>15</td>\n",
       "      <td>30</td>\n",
       "      <td>21.789062</td>\n",
       "    </tr>\n",
       "    <tr>\n",
       "      <th>Suzuki</th>\n",
       "      <td>66.0</td>\n",
       "      <td>261.0</td>\n",
       "      <td>160.287749</td>\n",
       "      <td>4.0</td>\n",
       "      <td>6.0</td>\n",
       "      <td>4.547009</td>\n",
       "      <td>19</td>\n",
       "      <td>39</td>\n",
       "      <td>26.034188</td>\n",
       "      <td>14</td>\n",
       "      <td>33</td>\n",
       "      <td>19.914530</td>\n",
       "    </tr>\n",
       "    <tr>\n",
       "      <th>Tesla</th>\n",
       "      <td>NaN</td>\n",
       "      <td>NaN</td>\n",
       "      <td>NaN</td>\n",
       "      <td>0.0</td>\n",
       "      <td>0.0</td>\n",
       "      <td>0.000000</td>\n",
       "      <td>90</td>\n",
       "      <td>107</td>\n",
       "      <td>98.944444</td>\n",
       "      <td>86</td>\n",
       "      <td>102</td>\n",
       "      <td>94.111111</td>\n",
       "    </tr>\n",
       "    <tr>\n",
       "      <th>Toyota</th>\n",
       "      <td>93.0</td>\n",
       "      <td>381.0</td>\n",
       "      <td>236.147849</td>\n",
       "      <td>0.0</td>\n",
       "      <td>8.0</td>\n",
       "      <td>5.597315</td>\n",
       "      <td>17</td>\n",
       "      <td>74</td>\n",
       "      <td>26.453083</td>\n",
       "      <td>13</td>\n",
       "      <td>78</td>\n",
       "      <td>21.554960</td>\n",
       "    </tr>\n",
       "    <tr>\n",
       "      <th>Volkswagen</th>\n",
       "      <td>81.0</td>\n",
       "      <td>444.0</td>\n",
       "      <td>189.757726</td>\n",
       "      <td>4.0</td>\n",
       "      <td>12.0</td>\n",
       "      <td>4.365217</td>\n",
       "      <td>15</td>\n",
       "      <td>105</td>\n",
       "      <td>32.128554</td>\n",
       "      <td>11</td>\n",
       "      <td>126</td>\n",
       "      <td>23.580964</td>\n",
       "    </tr>\n",
       "    <tr>\n",
       "      <th>Volvo</th>\n",
       "      <td>114.0</td>\n",
       "      <td>345.0</td>\n",
       "      <td>230.971530</td>\n",
       "      <td>4.0</td>\n",
       "      <td>6.0</td>\n",
       "      <td>4.722420</td>\n",
       "      <td>19</td>\n",
       "      <td>38</td>\n",
       "      <td>27.202847</td>\n",
       "      <td>15</td>\n",
       "      <td>26</td>\n",
       "      <td>19.583630</td>\n",
       "    </tr>\n",
       "  </tbody>\n",
       "</table>\n",
       "</div>"
      ],
      "text/plain": [
       "              Engine HP                      Engine Cylinders        \\\n",
       "                    min     max         mean              min   max   \n",
       "Make                                                                  \n",
       "Acura             111.0   573.0   244.797619              4.0   6.0   \n",
       "Alfa Romeo        237.0   237.0   237.000000              4.0   4.0   \n",
       "Aston Martin      420.0   568.0   484.322581              8.0  12.0   \n",
       "Audi              108.0   610.0   277.695122              4.0  12.0   \n",
       "BMW               170.0   600.0   326.907186              0.0  12.0   \n",
       "Bentley           400.0   631.0   533.851351              8.0  12.0   \n",
       "Bugatti          1001.0  1001.0  1001.000000             16.0  16.0   \n",
       "Buick             138.0   310.0   219.244898              4.0   8.0   \n",
       "Cadillac          140.0   640.0   332.309824              4.0   8.0   \n",
       "Chevrolet          55.0   650.0   246.972247              0.0   8.0   \n",
       "Chrysler          100.0   385.0   229.139037              4.0   8.0   \n",
       "Dodge              92.0   707.0   244.415335              4.0  10.0   \n",
       "FIAT              101.0   180.0   143.559322              0.0   4.0   \n",
       "Ferrari           400.0   731.0   511.956522              8.0  12.0   \n",
       "Ford               63.0   662.0   243.097926              0.0   8.0   \n",
       "GMC               105.0   420.0   259.844660              4.0   8.0   \n",
       "Genesis           311.0   420.0   347.333333              6.0   8.0   \n",
       "HUMMER            239.0   300.0   261.235294              5.0   8.0   \n",
       "Honda              62.0   280.0   195.749441              0.0   6.0   \n",
       "Hyundai            81.0   429.0   201.917492              4.0   8.0   \n",
       "Infiniti          145.0   420.0   310.066667              4.0   8.0   \n",
       "Kia               125.0   420.0   206.827434              0.0   8.0   \n",
       "Lamborghini       550.0   750.0   614.076923             10.0  12.0   \n",
       "Land Rover        174.0   550.0   322.097902              4.0   8.0   \n",
       "Lexus             134.0   552.0   277.415842              4.0  10.0   \n",
       "Lincoln           188.0   380.0   284.910256              4.0   8.0   \n",
       "Lotus             189.0   400.0   275.965517              4.0   8.0   \n",
       "Maserati          345.0   523.0   420.793103              6.0   8.0   \n",
       "Maybach           543.0   631.0   590.500000             12.0  12.0   \n",
       "Mazda              82.0   274.0   171.992908              4.0   6.0   \n",
       "McLaren           562.0   641.0   610.400000              8.0   8.0   \n",
       "Mercedes-Benz     121.0   641.0   350.181818              0.0  12.0   \n",
       "Mitsubishi         66.0   320.0   173.429245              3.0   8.0   \n",
       "Nissan             90.0   600.0   239.921533              0.0   8.0   \n",
       "Oldsmobile        110.0   275.0   177.466667              4.0   8.0   \n",
       "Plymouth           92.0   253.0   131.560976              4.0   6.0   \n",
       "Pontiac            74.0   415.0   190.295699              4.0   8.0   \n",
       "Porsche           208.0   605.0   392.794118              4.0  10.0   \n",
       "Rolls-Royce       322.0   624.0   487.548387              8.0  12.0   \n",
       "Saab              150.0   390.0   220.522523              4.0   8.0   \n",
       "Scion              94.0   200.0   154.433333              4.0   4.0   \n",
       "Spyker            400.0   400.0   400.000000              8.0   8.0   \n",
       "Subaru             66.0   305.0   197.308594              3.0   6.0   \n",
       "Suzuki             66.0   261.0   160.287749              4.0   6.0   \n",
       "Tesla               NaN     NaN          NaN              0.0   0.0   \n",
       "Toyota             93.0   381.0   236.147849              0.0   8.0   \n",
       "Volkswagen         81.0   444.0   189.757726              4.0  12.0   \n",
       "Volvo             114.0   345.0   230.971530              4.0   6.0   \n",
       "\n",
       "                         highway MPG                 city mpg                  \n",
       "                    mean         min  max       mean      min  max       mean  \n",
       "Make                                                                           \n",
       "Acura           5.333333          17   38  28.111111       13   39  19.940476  \n",
       "Alfa Romeo      4.000000          34   34  34.000000       24   24  24.000000  \n",
       "Aston Martin   10.623656          15   22  18.892473        9   14  12.526882  \n",
       "Audi            5.557927          18  354  28.823171       11   31  19.585366  \n",
       "BMW             5.958084          18  111  29.245509       10  137  20.739521  \n",
       "Bentley         9.729730          14   25  18.905405        9   15  11.554054  \n",
       "Bugatti        16.000000          14   14  14.000000        8    8   8.000000  \n",
       "Buick           5.316327          19   36  26.948980       14   28  18.704082  \n",
       "Cadillac        6.433249          18   33  25.236776       12   22  17.355164  \n",
       "Chevrolet       5.908118          15  110  25.815672       11  128  19.021371  \n",
       "Chrysler        5.593583          17   36  26.368984       12   23  17.759358  \n",
       "Dodge           6.258786          12   41  22.345048       10   28  16.065495  \n",
       "FIAT            3.806452          29  108  37.338710       21  122  30.645161  \n",
       "Ferrari         9.797101          12   23  15.724638        7   16  10.565217  \n",
       "Ford            5.914869          13   99  24.006810       11  110  17.960272  \n",
       "GMC             6.454369          13   32  21.403883       10   22  15.813592  \n",
       "Genesis         6.666667          23   28  25.333333       15   18  16.333333  \n",
       "HUMMER          6.058824          16   18  17.294118       13   14  13.529412  \n",
       "Honda           4.659243          18  105  32.574610       14  132  25.443207  \n",
       "Hyundai         4.666667          21   45  30.392739       15   40  22.343234  \n",
       "Infiniti        6.151515          17   36  24.778788       12   29  17.827273  \n",
       "Kia             4.588745          20   92  30.653680       15  120  23.848485  \n",
       "Lamborghini    10.884615          12   21  18.019231        8   15  11.519231  \n",
       "Land Rover      6.125874          14   30  22.125874       11   22  16.230769  \n",
       "Lexus           6.247525          14   40  25.876238       11   43  20.311881  \n",
       "Lincoln         6.073171          15   39  24.487805       11   41  17.890244  \n",
       "Lotus           5.241379          21   39  26.551724       14   21  18.758621  \n",
       "Maserati        7.344828          15   25  20.293103       10   17  13.327586  \n",
       "Maybach        12.000000          16   16  16.000000       10   10  10.000000  \n",
       "Mazda           4.615385          17   41  27.851064       14   34  21.245863  \n",
       "McLaren         8.000000          22   23  22.200000       15   16  15.600000  \n",
       "Mercedes-Benz   6.711048          13   82  24.830028       10   85  18.181303  \n",
       "Mitsubishi      4.680952          17  102  27.544601       13  126  21.910798  \n",
       "Nissan          5.336918          17  101  27.799283       12  126  21.874552  \n",
       "Oldsmobile      5.573333          19   31  26.233333       13   22  17.606667  \n",
       "Plymouth        4.390244          21   36  27.963415       15   28  20.792683  \n",
       "Pontiac         5.483871          19   37  27.069892       13   27  18.682796  \n",
       "Porsche         6.132353          15   30  25.367647        9   21  17.470588  \n",
       "Rolls-Royce    11.870968          15   21  19.129032       10   13  11.838710  \n",
       "Saab            4.540541          16   33  26.351351       12   21  17.765766  \n",
       "Scion           4.000000          28   42  32.300000       22   36  25.316667  \n",
       "Spyker          8.000000          18   18  18.000000       13   13  13.000000  \n",
       "Subaru          4.367188          21   38  28.683594       15   30  21.789062  \n",
       "Suzuki          4.547009          19   39  26.034188       14   33  19.914530  \n",
       "Tesla           0.000000          90  107  98.944444       86  102  94.111111  \n",
       "Toyota          5.597315          17   74  26.453083       13   78  21.554960  \n",
       "Volkswagen      4.365217          15  105  32.128554       11  126  23.580964  \n",
       "Volvo           4.722420          19   38  27.202847       15   26  19.583630  "
      ]
     },
     "execution_count": 14,
     "metadata": {},
     "output_type": "execute_result"
    }
   ],
   "source": [
    "car.groupby('Make')[['Engine HP', 'Engine Cylinders', 'highway MPG', 'city mpg']].agg(['min', 'max', 'mean'])"
   ]
  },
  {
   "cell_type": "code",
   "execution_count": 16,
   "id": "e8c38381",
   "metadata": {},
   "outputs": [
    {
     "data": {
      "image/png": "[encoded data removed]",
      "text/plain": [
       "<Figure size 1440x1080 with 1 Axes>"
      ]
     },
     "metadata": {
      "needs_background": "light"
     },
     "output_type": "display_data"
    }
   ],
   "source": [
    "plt.figure(figsize = (20, 15))\n",
    "car.groupby(['Make']).mean()['MSRP'].sort_values(ascending = False).plot(kind = 'bar', fontsize = 15, color = 'blue')\n",
    "plt.title(\"The average price of cars of different companies\", fontsize = 20)\n",
    "plt.show()"
   ]
  },
  {
   "cell_type": "code",
   "execution_count": 18,
   "id": "06227faa",
   "metadata": {},
   "outputs": [
    {
     "data": {
      "image/png": "[encoded data removed]",
      "text/plain": [
       "<Figure size 1080x1080 with 1 Axes>"
      ]
     },
     "metadata": {
      "needs_background": "light"
     },
     "output_type": "display_data"
    }
   ],
   "source": [
    "plt.figure(figsize = (15, 15))\n",
    "car.groupby('Make').mean()['Popularity'].sort_values(ascending = True).plot(kind = 'barh', color = 'red')\n",
    "plt.yticks(fontsize = 10)\n",
    "plt.title(\"Popularity of various car brands\", fontsize = 15)\n",
    "plt.show()"
   ]
  },
  {
   "cell_type": "code",
   "execution_count": 19,
   "id": "abb4003c",
   "metadata": {},
   "outputs": [
    {
     "data": {
      "image/png": "[encoded data removed]",
      "text/plain": [
       "<Figure size 432x288 with 1 Axes>"
      ]
     },
     "metadata": {
      "needs_background": "light"
     },
     "output_type": "display_data"
    }
   ],
   "source": [
    "sns.scatterplot(x = 'highway MPG', y = 'city mpg', data = car, color = 'g')\n",
    "plt.title(\"Scatterplot of relation between highway MPG and city mpg\")\n",
    "plt.show()"
   ]
  },
  {
   "cell_type": "code",
   "execution_count": 22,
   "id": "49449b0d",
   "metadata": {},
   "outputs": [
    {
     "data": {
      "text/html": [
       "<div>\n",
       "<style scoped>\n",
       "    .dataframe tbody tr th:only-of-type {\n",
       "        vertical-align: middle;\n",
       "    }\n",
       "\n",
       "    .dataframe tbody tr th {\n",
       "        vertical-align: top;\n",
       "    }\n",
       "\n",
       "    .dataframe thead th {\n",
       "        text-align: right;\n",
       "    }\n",
       "</style>\n",
       "<table border=\"1\" class=\"dataframe\">\n",
       "  <thead>\n",
       "    <tr style=\"text-align: right;\">\n",
       "      <th></th>\n",
       "      <th>Make</th>\n",
       "      <th>Model</th>\n",
       "      <th>Year</th>\n",
       "      <th>Engine Fuel Type</th>\n",
       "      <th>Engine HP</th>\n",
       "      <th>Engine Cylinders</th>\n",
       "      <th>Transmission Type</th>\n",
       "      <th>Driven_Wheels</th>\n",
       "      <th>Number of Doors</th>\n",
       "      <th>Market Category</th>\n",
       "      <th>Vehicle Size</th>\n",
       "      <th>Vehicle Style</th>\n",
       "      <th>highway MPG</th>\n",
       "      <th>city mpg</th>\n",
       "      <th>Popularity</th>\n",
       "      <th>MSRP</th>\n",
       "    </tr>\n",
       "  </thead>\n",
       "  <tbody>\n",
       "    <tr>\n",
       "      <th>1119</th>\n",
       "      <td>Audi</td>\n",
       "      <td>A6</td>\n",
       "      <td>2017</td>\n",
       "      <td>premium unleaded (recommended)</td>\n",
       "      <td>252.0</td>\n",
       "      <td>4.0</td>\n",
       "      <td>AUTOMATED_MANUAL</td>\n",
       "      <td>front wheel drive</td>\n",
       "      <td>4.0</td>\n",
       "      <td>Luxury</td>\n",
       "      <td>Midsize</td>\n",
       "      <td>Sedan</td>\n",
       "      <td>354</td>\n",
       "      <td>24</td>\n",
       "      <td>3105</td>\n",
       "      <td>51600</td>\n",
       "    </tr>\n",
       "  </tbody>\n",
       "</table>\n",
       "</div>"
      ],
      "text/plain": [
       "      Make Model  Year                Engine Fuel Type  Engine HP  \\\n",
       "1119  Audi    A6  2017  premium unleaded (recommended)      252.0   \n",
       "\n",
       "      Engine Cylinders Transmission Type      Driven_Wheels  Number of Doors  \\\n",
       "1119               4.0  AUTOMATED_MANUAL  front wheel drive              4.0   \n",
       "\n",
       "     Market Category Vehicle Size Vehicle Style  highway MPG  city mpg  \\\n",
       "1119          Luxury      Midsize         Sedan          354        24   \n",
       "\n",
       "      Popularity   MSRP  \n",
       "1119        3105  51600  "
      ]
     },
     "execution_count": 22,
     "metadata": {},
     "output_type": "execute_result"
    }
   ],
   "source": [
    "car[car['highway MPG'] > 300]"
   ]
  },
  {
   "cell_type": "code",
   "execution_count": 23,
   "id": "a78248be",
   "metadata": {},
   "outputs": [],
   "source": [
    "car = car[car['highway MPG'] < 300]"
   ]
  },
  {
   "cell_type": "code",
   "execution_count": 25,
   "id": "16a0b34a",
   "metadata": {},
   "outputs": [
    {
     "data": {
      "image/png": "[encoded data removed]",
      "text/plain": [
       "<Figure size 432x288 with 1 Axes>"
      ]
     },
     "metadata": {
      "needs_background": "light"
     },
     "output_type": "display_data"
    }
   ],
   "source": [
    "sns.scatterplot(x = 'highway MPG', y ='city mpg', data = car, color = 'b')\n",
    "plt.title(\"Scatterplot between highway MPG and city mpg\")\n",
    "plt.show()"
   ]
  },
  {
   "cell_type": "code",
   "execution_count": 26,
   "id": "0d9343c5",
   "metadata": {},
   "outputs": [
    {
     "data": {
      "text/plain": [
       "<AxesSubplot:xlabel='highway MPG'>"
      ]
     },
     "execution_count": 26,
     "metadata": {},
     "output_type": "execute_result"
    },
    {
     "data": {
      "image/png": "[encoded data removed]",
      "text/plain": [
       "<Figure size 432x288 with 1 Axes>"
      ]
     },
     "metadata": {
      "needs_background": "light"
     },
     "output_type": "display_data"
    }
   ],
   "source": [
    "sns.boxplot(x = 'highway MPG', data = car, color = 'g')"
   ]
  },
  {
   "cell_type": "code",
   "execution_count": 27,
   "id": "66e23b8b",
   "metadata": {},
   "outputs": [],
   "source": [
    "car = car[car['highway MPG'] < 60]"
   ]
  },
  {
   "cell_type": "code",
   "execution_count": 28,
   "id": "b6bfd6be",
   "metadata": {},
   "outputs": [
    {
     "data": {
      "text/plain": [
       "<AxesSubplot:xlabel='highway MPG'>"
      ]
     },
     "execution_count": 28,
     "metadata": {},
     "output_type": "execute_result"
    },
    {
     "data": {
      "image/png": "[encoded data removed]",
      "text/plain": [
       "<Figure size 432x288 with 1 Axes>"
      ]
     },
     "metadata": {
      "needs_background": "light"
     },
     "output_type": "display_data"
    }
   ],
   "source": [
    "sns.boxplot(x = 'highway MPG', data = car, color = 'y')"
   ]
  },
  {
   "cell_type": "code",
   "execution_count": 29,
   "id": "8f42490a",
   "metadata": {},
   "outputs": [
    {
     "data": {
      "text/plain": [
       "<AxesSubplot:xlabel='city mpg'>"
      ]
     },
     "execution_count": 29,
     "metadata": {},
     "output_type": "execute_result"
    },
    {
     "data": {
      "image/png": "[encoded data removed]",
      "text/plain": [
       "<Figure size 432x288 with 1 Axes>"
      ]
     },
     "metadata": {
      "needs_background": "light"
     },
     "output_type": "display_data"
    }
   ],
   "source": [
    "sns.boxplot(x = 'city mpg', data = car)"
   ]
  },
  {
   "cell_type": "code",
   "execution_count": 30,
   "id": "af74eb70",
   "metadata": {},
   "outputs": [],
   "source": [
    "car = car[car['city mpg'] < 40]"
   ]
  },
  {
   "cell_type": "code",
   "execution_count": 32,
   "id": "b5a1985f",
   "metadata": {},
   "outputs": [
    {
     "data": {
      "text/plain": [
       "<AxesSubplot:xlabel='city mpg'>"
      ]
     },
     "execution_count": 32,
     "metadata": {},
     "output_type": "execute_result"
    },
    {
     "data": {
      "image/png": "[encoded data removed]",
      "text/plain": [
       "<Figure size 432x288 with 1 Axes>"
      ]
     },
     "metadata": {
      "needs_background": "light"
     },
     "output_type": "display_data"
    }
   ],
   "source": [
    "sns.boxplot(x = 'city mpg', data= car, color = 'g')"
   ]
  },
  {
   "cell_type": "code",
   "execution_count": 33,
   "id": "c02cb548",
   "metadata": {},
   "outputs": [
    {
     "data": {
      "image/png": "[encoded data removed]",
      "text/plain": [
       "<Figure size 1440x720 with 1 Axes>"
      ]
     },
     "metadata": {
      "needs_background": "light"
     },
     "output_type": "display_data"
    }
   ],
   "source": [
    "#description of two features.(city mpg, highway MPG)\n",
    "plt.figure(figsize = (20, 10))\n",
    "sns.boxplot(data = car[['city mpg', 'highway MPG']], palette = 'viridis')\n",
    "plt.title(\"Boxplot of city mpg and highway MPG\", fontsize = 15)\n",
    "plt.show()"
   ]
  },
  {
   "cell_type": "code",
   "execution_count": 34,
   "id": "628712bb",
   "metadata": {},
   "outputs": [
    {
     "data": {
      "text/plain": [
       "<seaborn.axisgrid.FacetGrid at 0x2b0e4674a90>"
      ]
     },
     "execution_count": 34,
     "metadata": {},
     "output_type": "execute_result"
    },
    {
     "data": {
      "image/png": "[encoded data removed]",
      "text/plain": [
       "<Figure size 360x360 with 1 Axes>"
      ]
     },
     "metadata": {},
     "output_type": "display_data"
    }
   ],
   "source": [
    "#relationship between engine hp and popularity(positive)\n",
    "sns.set(rc = {'figure.figsize': (20, 20)})\n",
    "sns.lmplot(x = 'Engine HP', y = 'Popularity', data = car)"
   ]
  },
  {
   "cell_type": "code",
   "execution_count": 35,
   "id": "8a8aafb9",
   "metadata": {},
   "outputs": [
    {
     "data": {
      "image/png": "[encoded data removed]",
      "text/plain": [
       "<Figure size 360x360 with 1 Axes>"
      ]
     },
     "metadata": {},
     "output_type": "display_data"
    }
   ],
   "source": [
    "# releationship between no.of cylinder and popularity (positive)\n",
    "sns.lmplot(x = 'Engine Cylinders', y = 'Popularity', data = car)\n",
    "plt.title(\"Engine Cylinders vs Popularity\", fontsize = 20)\n",
    "plt.show()"
   ]
  },
  {
   "cell_type": "code",
   "execution_count": 37,
   "id": "2065f9ae",
   "metadata": {},
   "outputs": [
    {
     "data": {
      "image/png": "[encoded data removed]",
      "text/plain": [
       "<Figure size 360x360 with 1 Axes>"
      ]
     },
     "metadata": {},
     "output_type": "display_data"
    }
   ],
   "source": [
    "#releationship between no.of cylinder and engine hp (positive +)\n",
    "sns.lmplot(x = 'Engine Cylinders', y = 'Engine HP', scatter_kws = {\"s\": 40, \"alpha\": 0.2}, data = car)\n",
    "plt.title(\"Engine Cylinders vs Engine HP\", fontsize = 20)\n",
    "plt.show()"
   ]
  },
  {
   "cell_type": "code",
   "execution_count": 39,
   "id": "b4223f58",
   "metadata": {},
   "outputs": [
    {
     "data": {
      "text/plain": [
       "Make                    0\n",
       "Model                   0\n",
       "Year                    0\n",
       "Engine Fuel Type        3\n",
       "Engine HP              21\n",
       "Engine Cylinders       20\n",
       "Transmission Type       0\n",
       "Driven_Wheels           0\n",
       "Number of Doors         1\n",
       "Market Category      3737\n",
       "Vehicle Size            0\n",
       "Vehicle Style           0\n",
       "highway MPG             0\n",
       "city mpg                0\n",
       "Popularity              0\n",
       "MSRP                    0\n",
       "dtype: int64"
      ]
     },
     "execution_count": 39,
     "metadata": {},
     "output_type": "execute_result"
    }
   ],
   "source": [
    "#checking for missing values\n",
    "car.isnull().sum()"
   ]
  },
  {
   "cell_type": "code",
   "execution_count": 40,
   "id": "975761aa",
   "metadata": {},
   "outputs": [
    {
     "data": {
      "text/plain": [
       "4.0"
      ]
     },
     "execution_count": 40,
     "metadata": {},
     "output_type": "execute_result"
    }
   ],
   "source": [
    "car['Number of Doors'].median()"
   ]
  },
  {
   "cell_type": "code",
   "execution_count": 41,
   "id": "2d6d0ec3",
   "metadata": {},
   "outputs": [],
   "source": [
    "#filling missing value with median\n",
    "car['Number of Doors'].fillna(4.0, inplace = True)"
   ]
  },
  {
   "cell_type": "code",
   "execution_count": 45,
   "id": "85e3e4db",
   "metadata": {},
   "outputs": [],
   "source": [
    "#creating new column\n",
    "car['Present Year'] = 2022"
   ]
  },
  {
   "cell_type": "code",
   "execution_count": 46,
   "id": "18f92c60",
   "metadata": {},
   "outputs": [
    {
     "data": {
      "text/html": [
       "<div>\n",
       "<style scoped>\n",
       "    .dataframe tbody tr th:only-of-type {\n",
       "        vertical-align: middle;\n",
       "    }\n",
       "\n",
       "    .dataframe tbody tr th {\n",
       "        vertical-align: top;\n",
       "    }\n",
       "\n",
       "    .dataframe thead th {\n",
       "        text-align: right;\n",
       "    }\n",
       "</style>\n",
       "<table border=\"1\" class=\"dataframe\">\n",
       "  <thead>\n",
       "    <tr style=\"text-align: right;\">\n",
       "      <th></th>\n",
       "      <th>Make</th>\n",
       "      <th>Model</th>\n",
       "      <th>Year</th>\n",
       "      <th>Engine Fuel Type</th>\n",
       "      <th>Engine HP</th>\n",
       "      <th>Engine Cylinders</th>\n",
       "      <th>Transmission Type</th>\n",
       "      <th>Driven_Wheels</th>\n",
       "      <th>Number of Doors</th>\n",
       "      <th>Market Category</th>\n",
       "      <th>Vehicle Size</th>\n",
       "      <th>Vehicle Style</th>\n",
       "      <th>highway MPG</th>\n",
       "      <th>city mpg</th>\n",
       "      <th>Popularity</th>\n",
       "      <th>MSRP</th>\n",
       "      <th>Present Year</th>\n",
       "    </tr>\n",
       "  </thead>\n",
       "  <tbody>\n",
       "    <tr>\n",
       "      <th>0</th>\n",
       "      <td>BMW</td>\n",
       "      <td>1 Series M</td>\n",
       "      <td>2011</td>\n",
       "      <td>premium unleaded (required)</td>\n",
       "      <td>335.0</td>\n",
       "      <td>6.0</td>\n",
       "      <td>MANUAL</td>\n",
       "      <td>rear wheel drive</td>\n",
       "      <td>2.0</td>\n",
       "      <td>Factory Tuner,Luxury,High-Performance</td>\n",
       "      <td>Compact</td>\n",
       "      <td>Coupe</td>\n",
       "      <td>26</td>\n",
       "      <td>19</td>\n",
       "      <td>3916</td>\n",
       "      <td>46135</td>\n",
       "      <td>2022</td>\n",
       "    </tr>\n",
       "    <tr>\n",
       "      <th>1</th>\n",
       "      <td>BMW</td>\n",
       "      <td>1 Series</td>\n",
       "      <td>2011</td>\n",
       "      <td>premium unleaded (required)</td>\n",
       "      <td>300.0</td>\n",
       "      <td>6.0</td>\n",
       "      <td>MANUAL</td>\n",
       "      <td>rear wheel drive</td>\n",
       "      <td>2.0</td>\n",
       "      <td>Luxury,Performance</td>\n",
       "      <td>Compact</td>\n",
       "      <td>Convertible</td>\n",
       "      <td>28</td>\n",
       "      <td>19</td>\n",
       "      <td>3916</td>\n",
       "      <td>40650</td>\n",
       "      <td>2022</td>\n",
       "    </tr>\n",
       "    <tr>\n",
       "      <th>2</th>\n",
       "      <td>BMW</td>\n",
       "      <td>1 Series</td>\n",
       "      <td>2011</td>\n",
       "      <td>premium unleaded (required)</td>\n",
       "      <td>300.0</td>\n",
       "      <td>6.0</td>\n",
       "      <td>MANUAL</td>\n",
       "      <td>rear wheel drive</td>\n",
       "      <td>2.0</td>\n",
       "      <td>Luxury,High-Performance</td>\n",
       "      <td>Compact</td>\n",
       "      <td>Coupe</td>\n",
       "      <td>28</td>\n",
       "      <td>20</td>\n",
       "      <td>3916</td>\n",
       "      <td>36350</td>\n",
       "      <td>2022</td>\n",
       "    </tr>\n",
       "    <tr>\n",
       "      <th>3</th>\n",
       "      <td>BMW</td>\n",
       "      <td>1 Series</td>\n",
       "      <td>2011</td>\n",
       "      <td>premium unleaded (required)</td>\n",
       "      <td>230.0</td>\n",
       "      <td>6.0</td>\n",
       "      <td>MANUAL</td>\n",
       "      <td>rear wheel drive</td>\n",
       "      <td>2.0</td>\n",
       "      <td>Luxury,Performance</td>\n",
       "      <td>Compact</td>\n",
       "      <td>Coupe</td>\n",
       "      <td>28</td>\n",
       "      <td>18</td>\n",
       "      <td>3916</td>\n",
       "      <td>29450</td>\n",
       "      <td>2022</td>\n",
       "    </tr>\n",
       "    <tr>\n",
       "      <th>4</th>\n",
       "      <td>BMW</td>\n",
       "      <td>1 Series</td>\n",
       "      <td>2011</td>\n",
       "      <td>premium unleaded (required)</td>\n",
       "      <td>230.0</td>\n",
       "      <td>6.0</td>\n",
       "      <td>MANUAL</td>\n",
       "      <td>rear wheel drive</td>\n",
       "      <td>2.0</td>\n",
       "      <td>Luxury</td>\n",
       "      <td>Compact</td>\n",
       "      <td>Convertible</td>\n",
       "      <td>28</td>\n",
       "      <td>18</td>\n",
       "      <td>3916</td>\n",
       "      <td>34500</td>\n",
       "      <td>2022</td>\n",
       "    </tr>\n",
       "  </tbody>\n",
       "</table>\n",
       "</div>"
      ],
      "text/plain": [
       "  Make       Model  Year             Engine Fuel Type  Engine HP  \\\n",
       "0  BMW  1 Series M  2011  premium unleaded (required)      335.0   \n",
       "1  BMW    1 Series  2011  premium unleaded (required)      300.0   \n",
       "2  BMW    1 Series  2011  premium unleaded (required)      300.0   \n",
       "3  BMW    1 Series  2011  premium unleaded (required)      230.0   \n",
       "4  BMW    1 Series  2011  premium unleaded (required)      230.0   \n",
       "\n",
       "   Engine Cylinders Transmission Type     Driven_Wheels  Number of Doors  \\\n",
       "0               6.0            MANUAL  rear wheel drive              2.0   \n",
       "1               6.0            MANUAL  rear wheel drive              2.0   \n",
       "2               6.0            MANUAL  rear wheel drive              2.0   \n",
       "3               6.0            MANUAL  rear wheel drive              2.0   \n",
       "4               6.0            MANUAL  rear wheel drive              2.0   \n",
       "\n",
       "                         Market Category Vehicle Size Vehicle Style  \\\n",
       "0  Factory Tuner,Luxury,High-Performance      Compact         Coupe   \n",
       "1                     Luxury,Performance      Compact   Convertible   \n",
       "2                Luxury,High-Performance      Compact         Coupe   \n",
       "3                     Luxury,Performance      Compact         Coupe   \n",
       "4                                 Luxury      Compact   Convertible   \n",
       "\n",
       "   highway MPG  city mpg  Popularity   MSRP  Present Year  \n",
       "0           26        19        3916  46135          2022  \n",
       "1           28        19        3916  40650          2022  \n",
       "2           28        20        3916  36350          2022  \n",
       "3           28        18        3916  29450          2022  \n",
       "4           28        18        3916  34500          2022  "
      ]
     },
     "execution_count": 46,
     "metadata": {},
     "output_type": "execute_result"
    }
   ],
   "source": [
    "car.head()"
   ]
  },
  {
   "cell_type": "code",
   "execution_count": 47,
   "id": "8d40fb5d",
   "metadata": {},
   "outputs": [],
   "source": [
    "#creating new column\n",
    "car['Years Of Manufacture'] = car['Present Year'] - car['Year']"
   ]
  },
  {
   "cell_type": "code",
   "execution_count": 49,
   "id": "a80b8be4",
   "metadata": {},
   "outputs": [],
   "source": [
    "car.drop(['Present Year'], inplace = True, axis = 1)"
   ]
  },
  {
   "cell_type": "code",
   "execution_count": 52,
   "id": "c81c6878",
   "metadata": {},
   "outputs": [
    {
     "data": {
      "image/png": "[encoded data removed]",
      "text/plain": [
       "<Figure size 1440x1440 with 1 Axes>"
      ]
     },
     "metadata": {},
     "output_type": "display_data"
    }
   ],
   "source": [
    "sns.barplot(y = car['Years Of Manufacture'].value_counts(), x = car['Years Of Manufacture'].value_counts().index)\n",
    "plt.title(\"Total number of cars with particular years of manufacture\", fontsize = 35)\n",
    "plt.show()"
   ]
  },
  {
   "cell_type": "code",
   "execution_count": 53,
   "id": "410c60af",
   "metadata": {},
   "outputs": [
    {
     "data": {
      "text/plain": [
       "Make                       0\n",
       "Model                      0\n",
       "Year                       0\n",
       "Engine Fuel Type           3\n",
       "Engine HP                 21\n",
       "Engine Cylinders          20\n",
       "Transmission Type          0\n",
       "Driven_Wheels              0\n",
       "Number of Doors            0\n",
       "Market Category         3737\n",
       "Vehicle Size               0\n",
       "Vehicle Style              0\n",
       "highway MPG                0\n",
       "city mpg                   0\n",
       "Popularity                 0\n",
       "MSRP                       0\n",
       "Years Of Manufacture       0\n",
       "dtype: int64"
      ]
     },
     "execution_count": 53,
     "metadata": {},
     "output_type": "execute_result"
    }
   ],
   "source": [
    "car.isnull().sum()"
   ]
  },
  {
   "cell_type": "code",
   "execution_count": 54,
   "id": "da291049",
   "metadata": {},
   "outputs": [
    {
     "data": {
      "text/plain": [
       "250.75316672372475"
      ]
     },
     "execution_count": 54,
     "metadata": {},
     "output_type": "execute_result"
    }
   ],
   "source": [
    "car['Engine HP'].mean()"
   ]
  },
  {
   "cell_type": "code",
   "execution_count": 56,
   "id": "ec8f725d",
   "metadata": {},
   "outputs": [],
   "source": [
    "#filling missing values with median\n",
    "car['Engine HP'].fillna(car['Engine HP'].median(), inplace = True)"
   ]
  },
  {
   "cell_type": "code",
   "execution_count": 57,
   "id": "069bea66",
   "metadata": {},
   "outputs": [
    {
     "data": {
      "text/plain": [
       "0"
      ]
     },
     "execution_count": 57,
     "metadata": {},
     "output_type": "execute_result"
    }
   ],
   "source": [
    "car['Engine HP'].isnull().sum()"
   ]
  },
  {
   "cell_type": "code",
   "execution_count": 58,
   "id": "9206e7b2",
   "metadata": {},
   "outputs": [
    {
     "data": {
      "text/plain": [
       "array([ 6.,  4.,  5.,  8., 12., 10.,  3., nan, 16.])"
      ]
     },
     "execution_count": 58,
     "metadata": {},
     "output_type": "execute_result"
    }
   ],
   "source": [
    "car['Engine Cylinders'].unique()"
   ]
  },
  {
   "cell_type": "code",
   "execution_count": 69,
   "id": "8c6ddb52",
   "metadata": {},
   "outputs": [],
   "source": [
    "#Filling missing values  \n",
    "car['Engine Cylinders'].fillna(3, inplace = True)"
   ]
  },
  {
   "cell_type": "code",
   "execution_count": 70,
   "id": "03e99ae5",
   "metadata": {},
   "outputs": [
    {
     "data": {
      "text/plain": [
       "0"
      ]
     },
     "execution_count": 70,
     "metadata": {},
     "output_type": "execute_result"
    }
   ],
   "source": [
    "car['Engine Cylinders'].isnull().sum()"
   ]
  },
  {
   "cell_type": "code",
   "execution_count": 61,
   "id": "fa26a884",
   "metadata": {},
   "outputs": [
    {
     "data": {
      "text/plain": [
       "Make                       0\n",
       "Model                      0\n",
       "Year                       0\n",
       "Engine Fuel Type           3\n",
       "Engine HP                  0\n",
       "Engine Cylinders           0\n",
       "Transmission Type          0\n",
       "Driven_Wheels              0\n",
       "Number of Doors            0\n",
       "Market Category         3737\n",
       "Vehicle Size               0\n",
       "Vehicle Style              0\n",
       "highway MPG                0\n",
       "city mpg                   0\n",
       "Popularity                 0\n",
       "MSRP                       0\n",
       "Years Of Manufacture       0\n",
       "dtype: int64"
      ]
     },
     "execution_count": 61,
     "metadata": {},
     "output_type": "execute_result"
    }
   ],
   "source": [
    "car.isnull().sum()"
   ]
  },
  {
   "cell_type": "code",
   "execution_count": 62,
   "id": "1ff287ef",
   "metadata": {},
   "outputs": [],
   "source": [
    "#droping column Market Category\n",
    "car.drop(['Market Category'], inplace = True, axis = 1)"
   ]
  },
  {
   "cell_type": "code",
   "execution_count": 63,
   "id": "324427de",
   "metadata": {},
   "outputs": [
    {
     "data": {
      "text/plain": [
       "Make                    0\n",
       "Model                   0\n",
       "Year                    0\n",
       "Engine Fuel Type        3\n",
       "Engine HP               0\n",
       "Engine Cylinders        0\n",
       "Transmission Type       0\n",
       "Driven_Wheels           0\n",
       "Number of Doors         0\n",
       "Vehicle Size            0\n",
       "Vehicle Style           0\n",
       "highway MPG             0\n",
       "city mpg                0\n",
       "Popularity              0\n",
       "MSRP                    0\n",
       "Years Of Manufacture    0\n",
       "dtype: int64"
      ]
     },
     "execution_count": 63,
     "metadata": {},
     "output_type": "execute_result"
    }
   ],
   "source": [
    "car.isnull().sum()"
   ]
  },
  {
   "cell_type": "code",
   "execution_count": 65,
   "id": "d42509c4",
   "metadata": {},
   "outputs": [
    {
     "data": {
      "text/plain": [
       "array(['premium unleaded (required)', 'regular unleaded',\n",
       "       'premium unleaded (recommended)', 'flex-fuel (unleaded/E85)',\n",
       "       'diesel', 'flex-fuel (premium unleaded recommended/E85)',\n",
       "       'natural gas', 'flex-fuel (premium unleaded required/E85)',\n",
       "       'flex-fuel (unleaded/natural gas)', nan], dtype=object)"
      ]
     },
     "execution_count": 65,
     "metadata": {},
     "output_type": "execute_result"
    }
   ],
   "source": [
    "car['Engine Fuel Type'].unique()"
   ]
  },
  {
   "cell_type": "code",
   "execution_count": 67,
   "id": "14adebeb",
   "metadata": {},
   "outputs": [],
   "source": [
    "car['Engine Fuel Type'].fillna(\"car['Engine Fuel Type'].mode()\", inplace = True)"
   ]
  },
  {
   "cell_type": "code",
   "execution_count": 73,
   "id": "d2b6beee",
   "metadata": {},
   "outputs": [
    {
     "data": {
      "text/plain": [
       "0"
      ]
     },
     "execution_count": 73,
     "metadata": {},
     "output_type": "execute_result"
    }
   ],
   "source": [
    "car['Engine Fuel Type'].isnull().sum()"
   ]
  },
  {
   "cell_type": "code",
   "execution_count": 71,
   "id": "4aa3e74e",
   "metadata": {},
   "outputs": [
    {
     "data": {
      "text/plain": [
       "Make                    0\n",
       "Model                   0\n",
       "Year                    0\n",
       "Engine Fuel Type        0\n",
       "Engine HP               0\n",
       "Engine Cylinders        0\n",
       "Transmission Type       0\n",
       "Driven_Wheels           0\n",
       "Number of Doors         0\n",
       "Vehicle Size            0\n",
       "Vehicle Style           0\n",
       "highway MPG             0\n",
       "city mpg                0\n",
       "Popularity              0\n",
       "MSRP                    0\n",
       "Years Of Manufacture    0\n",
       "dtype: int64"
      ]
     },
     "execution_count": 71,
     "metadata": {},
     "output_type": "execute_result"
    }
   ],
   "source": [
    "car.isnull().sum()"
   ]
  },
  {
   "cell_type": "code",
   "execution_count": 74,
   "id": "e18c2dc8",
   "metadata": {},
   "outputs": [],
   "source": [
    "#shuffling data fro randomness\n",
    "shuffled_data = shuffle(car, random_state = 100)\n",
    "X = shuffled_data.drop(['MSRP'], axis = 1)\n",
    "y = shuffled_data['MSRP']"
   ]
  },
  {
   "cell_type": "code",
   "execution_count": 76,
   "id": "0d1e22a6",
   "metadata": {},
   "outputs": [],
   "source": [
    "X_train, X_test, y_train, y_test = train_test_split(X, y, test_size = 0.3, random_state = 100)"
   ]
  },
  {
   "cell_type": "code",
   "execution_count": 77,
   "id": "1787d9a5",
   "metadata": {},
   "outputs": [],
   "source": [
    "#converting data into numerical feature\n",
    "encoder = TargetEncoder(cols = 'Year')"
   ]
  },
  {
   "cell_type": "code",
   "execution_count": 78,
   "id": "cbeb4632",
   "metadata": {},
   "outputs": [
    {
     "data": {
      "text/html": [
       "<div>\n",
       "<style scoped>\n",
       "    .dataframe tbody tr th:only-of-type {\n",
       "        vertical-align: middle;\n",
       "    }\n",
       "\n",
       "    .dataframe tbody tr th {\n",
       "        vertical-align: top;\n",
       "    }\n",
       "\n",
       "    .dataframe thead th {\n",
       "        text-align: right;\n",
       "    }\n",
       "</style>\n",
       "<table border=\"1\" class=\"dataframe\">\n",
       "  <thead>\n",
       "    <tr style=\"text-align: right;\">\n",
       "      <th></th>\n",
       "      <th>Make</th>\n",
       "      <th>Model</th>\n",
       "      <th>Year</th>\n",
       "      <th>Engine Fuel Type</th>\n",
       "      <th>Engine HP</th>\n",
       "      <th>Engine Cylinders</th>\n",
       "      <th>Transmission Type</th>\n",
       "      <th>Driven_Wheels</th>\n",
       "      <th>Number of Doors</th>\n",
       "      <th>Vehicle Size</th>\n",
       "      <th>Vehicle Style</th>\n",
       "      <th>highway MPG</th>\n",
       "      <th>city mpg</th>\n",
       "      <th>Popularity</th>\n",
       "      <th>Years Of Manufacture</th>\n",
       "    </tr>\n",
       "  </thead>\n",
       "  <tbody>\n",
       "    <tr>\n",
       "      <th>8844</th>\n",
       "      <td>Honda</td>\n",
       "      <td>S2000</td>\n",
       "      <td>2008</td>\n",
       "      <td>premium unleaded (required)</td>\n",
       "      <td>237.0</td>\n",
       "      <td>4.0</td>\n",
       "      <td>MANUAL</td>\n",
       "      <td>rear wheel drive</td>\n",
       "      <td>2.0</td>\n",
       "      <td>Compact</td>\n",
       "      <td>Convertible</td>\n",
       "      <td>25</td>\n",
       "      <td>18</td>\n",
       "      <td>2202</td>\n",
       "      <td>14</td>\n",
       "    </tr>\n",
       "    <tr>\n",
       "      <th>5311</th>\n",
       "      <td>Mercedes-Benz</td>\n",
       "      <td>GLE-Class Coupe</td>\n",
       "      <td>2016</td>\n",
       "      <td>premium unleaded (required)</td>\n",
       "      <td>577.0</td>\n",
       "      <td>8.0</td>\n",
       "      <td>AUTOMATIC</td>\n",
       "      <td>all wheel drive</td>\n",
       "      <td>4.0</td>\n",
       "      <td>Midsize</td>\n",
       "      <td>4dr SUV</td>\n",
       "      <td>18</td>\n",
       "      <td>14</td>\n",
       "      <td>617</td>\n",
       "      <td>6</td>\n",
       "    </tr>\n",
       "    <tr>\n",
       "      <th>8098</th>\n",
       "      <td>Dodge</td>\n",
       "      <td>RAM 250</td>\n",
       "      <td>1992</td>\n",
       "      <td>regular unleaded</td>\n",
       "      <td>180.0</td>\n",
       "      <td>6.0</td>\n",
       "      <td>MANUAL</td>\n",
       "      <td>rear wheel drive</td>\n",
       "      <td>2.0</td>\n",
       "      <td>Large</td>\n",
       "      <td>Regular Cab Pickup</td>\n",
       "      <td>17</td>\n",
       "      <td>13</td>\n",
       "      <td>1851</td>\n",
       "      <td>30</td>\n",
       "    </tr>\n",
       "    <tr>\n",
       "      <th>3982</th>\n",
       "      <td>Buick</td>\n",
       "      <td>Envision</td>\n",
       "      <td>2017</td>\n",
       "      <td>flex-fuel (unleaded/E85)</td>\n",
       "      <td>197.0</td>\n",
       "      <td>4.0</td>\n",
       "      <td>AUTOMATIC</td>\n",
       "      <td>front wheel drive</td>\n",
       "      <td>4.0</td>\n",
       "      <td>Midsize</td>\n",
       "      <td>4dr SUV</td>\n",
       "      <td>29</td>\n",
       "      <td>22</td>\n",
       "      <td>155</td>\n",
       "      <td>5</td>\n",
       "    </tr>\n",
       "    <tr>\n",
       "      <th>10314</th>\n",
       "      <td>Scion</td>\n",
       "      <td>tC</td>\n",
       "      <td>2015</td>\n",
       "      <td>regular unleaded</td>\n",
       "      <td>179.0</td>\n",
       "      <td>4.0</td>\n",
       "      <td>MANUAL</td>\n",
       "      <td>front wheel drive</td>\n",
       "      <td>2.0</td>\n",
       "      <td>Compact</td>\n",
       "      <td>2dr Hatchback</td>\n",
       "      <td>31</td>\n",
       "      <td>23</td>\n",
       "      <td>105</td>\n",
       "      <td>7</td>\n",
       "    </tr>\n",
       "  </tbody>\n",
       "</table>\n",
       "</div>"
      ],
      "text/plain": [
       "                Make            Model  Year             Engine Fuel Type  \\\n",
       "8844           Honda            S2000  2008  premium unleaded (required)   \n",
       "5311   Mercedes-Benz  GLE-Class Coupe  2016  premium unleaded (required)   \n",
       "8098           Dodge          RAM 250  1992             regular unleaded   \n",
       "3982           Buick         Envision  2017     flex-fuel (unleaded/E85)   \n",
       "10314          Scion               tC  2015             regular unleaded   \n",
       "\n",
       "       Engine HP  Engine Cylinders Transmission Type      Driven_Wheels  \\\n",
       "8844       237.0               4.0            MANUAL   rear wheel drive   \n",
       "5311       577.0               8.0         AUTOMATIC    all wheel drive   \n",
       "8098       180.0               6.0            MANUAL   rear wheel drive   \n",
       "3982       197.0               4.0         AUTOMATIC  front wheel drive   \n",
       "10314      179.0               4.0            MANUAL  front wheel drive   \n",
       "\n",
       "       Number of Doors Vehicle Size       Vehicle Style  highway MPG  \\\n",
       "8844               2.0      Compact         Convertible           25   \n",
       "5311               4.0      Midsize             4dr SUV           18   \n",
       "8098               2.0        Large  Regular Cab Pickup           17   \n",
       "3982               4.0      Midsize             4dr SUV           29   \n",
       "10314              2.0      Compact       2dr Hatchback           31   \n",
       "\n",
       "       city mpg  Popularity  Years Of Manufacture  \n",
       "8844         18        2202                    14  \n",
       "5311         14         617                     6  \n",
       "8098         13        1851                    30  \n",
       "3982         22         155                     5  \n",
       "10314        23         105                     7  "
      ]
     },
     "execution_count": 78,
     "metadata": {},
     "output_type": "execute_result"
    }
   ],
   "source": [
    "X_train.head()"
   ]
  },
  {
   "cell_type": "code",
   "execution_count": 79,
   "id": "eb5e20b5",
   "metadata": {},
   "outputs": [
    {
     "data": {
      "text/plain": [
       "TargetEncoder(cols=['Year'])"
      ]
     },
     "execution_count": 79,
     "metadata": {},
     "output_type": "execute_result"
    }
   ],
   "source": [
    "encoder.fit(X_train['Year'], y_train.to_frame()['MSRP'] )"
   ]
  },
  {
   "cell_type": "code",
   "execution_count": 80,
   "id": "c8850ad2",
   "metadata": {},
   "outputs": [],
   "source": [
    "X_train['Year'] = encoder.transform(X_train['Year'])"
   ]
  },
  {
   "cell_type": "code",
   "execution_count": 81,
   "id": "b961600e",
   "metadata": {},
   "outputs": [],
   "source": [
    "X_test['Year'] = encoder.transform(X_test['Year'])"
   ]
  },
  {
   "cell_type": "code",
   "execution_count": 82,
   "id": "f8e47bb6",
   "metadata": {},
   "outputs": [
    {
     "data": {
      "text/html": [
       "<div>\n",
       "<style scoped>\n",
       "    .dataframe tbody tr th:only-of-type {\n",
       "        vertical-align: middle;\n",
       "    }\n",
       "\n",
       "    .dataframe tbody tr th {\n",
       "        vertical-align: top;\n",
       "    }\n",
       "\n",
       "    .dataframe thead th {\n",
       "        text-align: right;\n",
       "    }\n",
       "</style>\n",
       "<table border=\"1\" class=\"dataframe\">\n",
       "  <thead>\n",
       "    <tr style=\"text-align: right;\">\n",
       "      <th></th>\n",
       "      <th>Make</th>\n",
       "      <th>Model</th>\n",
       "      <th>Year</th>\n",
       "      <th>Engine Fuel Type</th>\n",
       "      <th>Engine HP</th>\n",
       "      <th>Engine Cylinders</th>\n",
       "      <th>Transmission Type</th>\n",
       "      <th>Driven_Wheels</th>\n",
       "      <th>Number of Doors</th>\n",
       "      <th>Vehicle Size</th>\n",
       "      <th>Vehicle Style</th>\n",
       "      <th>highway MPG</th>\n",
       "      <th>city mpg</th>\n",
       "      <th>Popularity</th>\n",
       "      <th>Years Of Manufacture</th>\n",
       "    </tr>\n",
       "  </thead>\n",
       "  <tbody>\n",
       "    <tr>\n",
       "      <th>8844</th>\n",
       "      <td>Honda</td>\n",
       "      <td>S2000</td>\n",
       "      <td>46537.842105</td>\n",
       "      <td>premium unleaded (required)</td>\n",
       "      <td>237.0</td>\n",
       "      <td>4.0</td>\n",
       "      <td>MANUAL</td>\n",
       "      <td>rear wheel drive</td>\n",
       "      <td>2.0</td>\n",
       "      <td>Compact</td>\n",
       "      <td>Convertible</td>\n",
       "      <td>25</td>\n",
       "      <td>18</td>\n",
       "      <td>2202</td>\n",
       "      <td>14</td>\n",
       "    </tr>\n",
       "    <tr>\n",
       "      <th>5311</th>\n",
       "      <td>Mercedes-Benz</td>\n",
       "      <td>GLE-Class Coupe</td>\n",
       "      <td>47835.476760</td>\n",
       "      <td>premium unleaded (required)</td>\n",
       "      <td>577.0</td>\n",
       "      <td>8.0</td>\n",
       "      <td>AUTOMATIC</td>\n",
       "      <td>all wheel drive</td>\n",
       "      <td>4.0</td>\n",
       "      <td>Midsize</td>\n",
       "      <td>4dr SUV</td>\n",
       "      <td>18</td>\n",
       "      <td>14</td>\n",
       "      <td>617</td>\n",
       "      <td>6</td>\n",
       "    </tr>\n",
       "    <tr>\n",
       "      <th>8098</th>\n",
       "      <td>Dodge</td>\n",
       "      <td>RAM 250</td>\n",
       "      <td>2085.166667</td>\n",
       "      <td>regular unleaded</td>\n",
       "      <td>180.0</td>\n",
       "      <td>6.0</td>\n",
       "      <td>MANUAL</td>\n",
       "      <td>rear wheel drive</td>\n",
       "      <td>2.0</td>\n",
       "      <td>Large</td>\n",
       "      <td>Regular Cab Pickup</td>\n",
       "      <td>17</td>\n",
       "      <td>13</td>\n",
       "      <td>1851</td>\n",
       "      <td>30</td>\n",
       "    </tr>\n",
       "    <tr>\n",
       "      <th>3982</th>\n",
       "      <td>Buick</td>\n",
       "      <td>Envision</td>\n",
       "      <td>42900.100349</td>\n",
       "      <td>flex-fuel (unleaded/E85)</td>\n",
       "      <td>197.0</td>\n",
       "      <td>4.0</td>\n",
       "      <td>AUTOMATIC</td>\n",
       "      <td>front wheel drive</td>\n",
       "      <td>4.0</td>\n",
       "      <td>Midsize</td>\n",
       "      <td>4dr SUV</td>\n",
       "      <td>29</td>\n",
       "      <td>22</td>\n",
       "      <td>155</td>\n",
       "      <td>5</td>\n",
       "    </tr>\n",
       "    <tr>\n",
       "      <th>10314</th>\n",
       "      <td>Scion</td>\n",
       "      <td>tC</td>\n",
       "      <td>46453.964000</td>\n",
       "      <td>regular unleaded</td>\n",
       "      <td>179.0</td>\n",
       "      <td>4.0</td>\n",
       "      <td>MANUAL</td>\n",
       "      <td>front wheel drive</td>\n",
       "      <td>2.0</td>\n",
       "      <td>Compact</td>\n",
       "      <td>2dr Hatchback</td>\n",
       "      <td>31</td>\n",
       "      <td>23</td>\n",
       "      <td>105</td>\n",
       "      <td>7</td>\n",
       "    </tr>\n",
       "  </tbody>\n",
       "</table>\n",
       "</div>"
      ],
      "text/plain": [
       "                Make            Model          Year  \\\n",
       "8844           Honda            S2000  46537.842105   \n",
       "5311   Mercedes-Benz  GLE-Class Coupe  47835.476760   \n",
       "8098           Dodge          RAM 250   2085.166667   \n",
       "3982           Buick         Envision  42900.100349   \n",
       "10314          Scion               tC  46453.964000   \n",
       "\n",
       "                  Engine Fuel Type  Engine HP  Engine Cylinders  \\\n",
       "8844   premium unleaded (required)      237.0               4.0   \n",
       "5311   premium unleaded (required)      577.0               8.0   \n",
       "8098              regular unleaded      180.0               6.0   \n",
       "3982      flex-fuel (unleaded/E85)      197.0               4.0   \n",
       "10314             regular unleaded      179.0               4.0   \n",
       "\n",
       "      Transmission Type      Driven_Wheels  Number of Doors Vehicle Size  \\\n",
       "8844             MANUAL   rear wheel drive              2.0      Compact   \n",
       "5311          AUTOMATIC    all wheel drive              4.0      Midsize   \n",
       "8098             MANUAL   rear wheel drive              2.0        Large   \n",
       "3982          AUTOMATIC  front wheel drive              4.0      Midsize   \n",
       "10314            MANUAL  front wheel drive              2.0      Compact   \n",
       "\n",
       "            Vehicle Style  highway MPG  city mpg  Popularity  \\\n",
       "8844          Convertible           25        18        2202   \n",
       "5311              4dr SUV           18        14         617   \n",
       "8098   Regular Cab Pickup           17        13        1851   \n",
       "3982              4dr SUV           29        22         155   \n",
       "10314       2dr Hatchback           31        23         105   \n",
       "\n",
       "       Years Of Manufacture  \n",
       "8844                     14  \n",
       "5311                      6  \n",
       "8098                     30  \n",
       "3982                      5  \n",
       "10314                     7  "
      ]
     },
     "execution_count": 82,
     "metadata": {},
     "output_type": "execute_result"
    }
   ],
   "source": [
    "X_train.head()"
   ]
  },
  {
   "cell_type": "code",
   "execution_count": 83,
   "id": "be5692ea",
   "metadata": {},
   "outputs": [],
   "source": [
    "encoder = TargetEncoder(cols = 'Model')\n",
    "encoder.fit(X_train['Model'], y_train.to_frame()['MSRP'])\n",
    "X_train['Model'] = encoder.transform(X_train['Model'])\n",
    "X_test['Model'] = encoder.transform(X_test['Model'])"
   ]
  },
  {
   "cell_type": "code",
   "execution_count": 84,
   "id": "4b4b5b67",
   "metadata": {},
   "outputs": [
    {
     "data": {
      "text/html": [
       "<div>\n",
       "<style scoped>\n",
       "    .dataframe tbody tr th:only-of-type {\n",
       "        vertical-align: middle;\n",
       "    }\n",
       "\n",
       "    .dataframe tbody tr th {\n",
       "        vertical-align: top;\n",
       "    }\n",
       "\n",
       "    .dataframe thead th {\n",
       "        text-align: right;\n",
       "    }\n",
       "</style>\n",
       "<table border=\"1\" class=\"dataframe\">\n",
       "  <thead>\n",
       "    <tr style=\"text-align: right;\">\n",
       "      <th></th>\n",
       "      <th>Make</th>\n",
       "      <th>Model</th>\n",
       "      <th>Year</th>\n",
       "      <th>Engine Fuel Type</th>\n",
       "      <th>Engine HP</th>\n",
       "      <th>Engine Cylinders</th>\n",
       "      <th>Transmission Type</th>\n",
       "      <th>Driven_Wheels</th>\n",
       "      <th>Number of Doors</th>\n",
       "      <th>Vehicle Size</th>\n",
       "      <th>Vehicle Style</th>\n",
       "      <th>highway MPG</th>\n",
       "      <th>city mpg</th>\n",
       "      <th>Popularity</th>\n",
       "      <th>Years Of Manufacture</th>\n",
       "    </tr>\n",
       "  </thead>\n",
       "  <tbody>\n",
       "    <tr>\n",
       "      <th>8844</th>\n",
       "      <td>Honda</td>\n",
       "      <td>36104.081086</td>\n",
       "      <td>46537.842105</td>\n",
       "      <td>premium unleaded (required)</td>\n",
       "      <td>237.0</td>\n",
       "      <td>4.0</td>\n",
       "      <td>MANUAL</td>\n",
       "      <td>rear wheel drive</td>\n",
       "      <td>2.0</td>\n",
       "      <td>Compact</td>\n",
       "      <td>Convertible</td>\n",
       "      <td>25</td>\n",
       "      <td>18</td>\n",
       "      <td>2202</td>\n",
       "      <td>14</td>\n",
       "    </tr>\n",
       "    <tr>\n",
       "      <th>5311</th>\n",
       "      <td>Mercedes-Benz</td>\n",
       "      <td>86378.562065</td>\n",
       "      <td>47835.476760</td>\n",
       "      <td>premium unleaded (required)</td>\n",
       "      <td>577.0</td>\n",
       "      <td>8.0</td>\n",
       "      <td>AUTOMATIC</td>\n",
       "      <td>all wheel drive</td>\n",
       "      <td>4.0</td>\n",
       "      <td>Midsize</td>\n",
       "      <td>4dr SUV</td>\n",
       "      <td>18</td>\n",
       "      <td>14</td>\n",
       "      <td>617</td>\n",
       "      <td>6</td>\n",
       "    </tr>\n",
       "    <tr>\n",
       "      <th>8098</th>\n",
       "      <td>Dodge</td>\n",
       "      <td>2024.001583</td>\n",
       "      <td>2085.166667</td>\n",
       "      <td>regular unleaded</td>\n",
       "      <td>180.0</td>\n",
       "      <td>6.0</td>\n",
       "      <td>MANUAL</td>\n",
       "      <td>rear wheel drive</td>\n",
       "      <td>2.0</td>\n",
       "      <td>Large</td>\n",
       "      <td>Regular Cab Pickup</td>\n",
       "      <td>17</td>\n",
       "      <td>13</td>\n",
       "      <td>1851</td>\n",
       "      <td>30</td>\n",
       "    </tr>\n",
       "    <tr>\n",
       "      <th>3982</th>\n",
       "      <td>Buick</td>\n",
       "      <td>40106.538563</td>\n",
       "      <td>42900.100349</td>\n",
       "      <td>flex-fuel (unleaded/E85)</td>\n",
       "      <td>197.0</td>\n",
       "      <td>4.0</td>\n",
       "      <td>AUTOMATIC</td>\n",
       "      <td>front wheel drive</td>\n",
       "      <td>4.0</td>\n",
       "      <td>Midsize</td>\n",
       "      <td>4dr SUV</td>\n",
       "      <td>29</td>\n",
       "      <td>22</td>\n",
       "      <td>155</td>\n",
       "      <td>5</td>\n",
       "    </tr>\n",
       "    <tr>\n",
       "      <th>10314</th>\n",
       "      <td>Scion</td>\n",
       "      <td>22122.193444</td>\n",
       "      <td>46453.964000</td>\n",
       "      <td>regular unleaded</td>\n",
       "      <td>179.0</td>\n",
       "      <td>4.0</td>\n",
       "      <td>MANUAL</td>\n",
       "      <td>front wheel drive</td>\n",
       "      <td>2.0</td>\n",
       "      <td>Compact</td>\n",
       "      <td>2dr Hatchback</td>\n",
       "      <td>31</td>\n",
       "      <td>23</td>\n",
       "      <td>105</td>\n",
       "      <td>7</td>\n",
       "    </tr>\n",
       "  </tbody>\n",
       "</table>\n",
       "</div>"
      ],
      "text/plain": [
       "                Make         Model          Year             Engine Fuel Type  \\\n",
       "8844           Honda  36104.081086  46537.842105  premium unleaded (required)   \n",
       "5311   Mercedes-Benz  86378.562065  47835.476760  premium unleaded (required)   \n",
       "8098           Dodge   2024.001583   2085.166667             regular unleaded   \n",
       "3982           Buick  40106.538563  42900.100349     flex-fuel (unleaded/E85)   \n",
       "10314          Scion  22122.193444  46453.964000             regular unleaded   \n",
       "\n",
       "       Engine HP  Engine Cylinders Transmission Type      Driven_Wheels  \\\n",
       "8844       237.0               4.0            MANUAL   rear wheel drive   \n",
       "5311       577.0               8.0         AUTOMATIC    all wheel drive   \n",
       "8098       180.0               6.0            MANUAL   rear wheel drive   \n",
       "3982       197.0               4.0         AUTOMATIC  front wheel drive   \n",
       "10314      179.0               4.0            MANUAL  front wheel drive   \n",
       "\n",
       "       Number of Doors Vehicle Size       Vehicle Style  highway MPG  \\\n",
       "8844               2.0      Compact         Convertible           25   \n",
       "5311               4.0      Midsize             4dr SUV           18   \n",
       "8098               2.0        Large  Regular Cab Pickup           17   \n",
       "3982               4.0      Midsize             4dr SUV           29   \n",
       "10314              2.0      Compact       2dr Hatchback           31   \n",
       "\n",
       "       city mpg  Popularity  Years Of Manufacture  \n",
       "8844         18        2202                    14  \n",
       "5311         14         617                     6  \n",
       "8098         13        1851                    30  \n",
       "3982         22         155                     5  \n",
       "10314        23         105                     7  "
      ]
     },
     "execution_count": 84,
     "metadata": {},
     "output_type": "execute_result"
    }
   ],
   "source": [
    "X_train.head()"
   ]
  },
  {
   "cell_type": "code",
   "execution_count": 85,
   "id": "24593310",
   "metadata": {},
   "outputs": [],
   "source": [
    "encoder = TargetEncoder(cols = 'Make')\n",
    "encoder.fit(X_train['Make'], y_train.to_frame()['MSRP'])\n",
    "X_train['Make'] = encoder.transform(X_train['Make'])\n",
    "X_test['Make'] = encoder.transform(X_test['Make'])"
   ]
  },
  {
   "cell_type": "code",
   "execution_count": 86,
   "id": "5d870f07",
   "metadata": {},
   "outputs": [
    {
     "data": {
      "text/html": [
       "<div>\n",
       "<style scoped>\n",
       "    .dataframe tbody tr th:only-of-type {\n",
       "        vertical-align: middle;\n",
       "    }\n",
       "\n",
       "    .dataframe tbody tr th {\n",
       "        vertical-align: top;\n",
       "    }\n",
       "\n",
       "    .dataframe thead th {\n",
       "        text-align: right;\n",
       "    }\n",
       "</style>\n",
       "<table border=\"1\" class=\"dataframe\">\n",
       "  <thead>\n",
       "    <tr style=\"text-align: right;\">\n",
       "      <th></th>\n",
       "      <th>Make</th>\n",
       "      <th>Model</th>\n",
       "      <th>Year</th>\n",
       "      <th>Engine Fuel Type</th>\n",
       "      <th>Engine HP</th>\n",
       "      <th>Engine Cylinders</th>\n",
       "      <th>Transmission Type</th>\n",
       "      <th>Driven_Wheels</th>\n",
       "      <th>Number of Doors</th>\n",
       "      <th>Vehicle Size</th>\n",
       "      <th>Vehicle Style</th>\n",
       "      <th>highway MPG</th>\n",
       "      <th>city mpg</th>\n",
       "      <th>Popularity</th>\n",
       "      <th>Years Of Manufacture</th>\n",
       "    </tr>\n",
       "  </thead>\n",
       "  <tbody>\n",
       "    <tr>\n",
       "      <th>8844</th>\n",
       "      <td>26883.135338</td>\n",
       "      <td>36104.081086</td>\n",
       "      <td>46537.842105</td>\n",
       "      <td>premium unleaded (required)</td>\n",
       "      <td>237.0</td>\n",
       "      <td>4.0</td>\n",
       "      <td>MANUAL</td>\n",
       "      <td>rear wheel drive</td>\n",
       "      <td>2.0</td>\n",
       "      <td>Compact</td>\n",
       "      <td>Convertible</td>\n",
       "      <td>25</td>\n",
       "      <td>18</td>\n",
       "      <td>2202</td>\n",
       "      <td>14</td>\n",
       "    </tr>\n",
       "    <tr>\n",
       "      <th>5311</th>\n",
       "      <td>67738.416342</td>\n",
       "      <td>86378.562065</td>\n",
       "      <td>47835.476760</td>\n",
       "      <td>premium unleaded (required)</td>\n",
       "      <td>577.0</td>\n",
       "      <td>8.0</td>\n",
       "      <td>AUTOMATIC</td>\n",
       "      <td>all wheel drive</td>\n",
       "      <td>4.0</td>\n",
       "      <td>Midsize</td>\n",
       "      <td>4dr SUV</td>\n",
       "      <td>18</td>\n",
       "      <td>14</td>\n",
       "      <td>617</td>\n",
       "      <td>6</td>\n",
       "    </tr>\n",
       "    <tr>\n",
       "      <th>8098</th>\n",
       "      <td>23185.543182</td>\n",
       "      <td>2024.001583</td>\n",
       "      <td>2085.166667</td>\n",
       "      <td>regular unleaded</td>\n",
       "      <td>180.0</td>\n",
       "      <td>6.0</td>\n",
       "      <td>MANUAL</td>\n",
       "      <td>rear wheel drive</td>\n",
       "      <td>2.0</td>\n",
       "      <td>Large</td>\n",
       "      <td>Regular Cab Pickup</td>\n",
       "      <td>17</td>\n",
       "      <td>13</td>\n",
       "      <td>1851</td>\n",
       "      <td>30</td>\n",
       "    </tr>\n",
       "    <tr>\n",
       "      <th>3982</th>\n",
       "      <td>27766.924812</td>\n",
       "      <td>40106.538563</td>\n",
       "      <td>42900.100349</td>\n",
       "      <td>flex-fuel (unleaded/E85)</td>\n",
       "      <td>197.0</td>\n",
       "      <td>4.0</td>\n",
       "      <td>AUTOMATIC</td>\n",
       "      <td>front wheel drive</td>\n",
       "      <td>4.0</td>\n",
       "      <td>Midsize</td>\n",
       "      <td>4dr SUV</td>\n",
       "      <td>29</td>\n",
       "      <td>22</td>\n",
       "      <td>155</td>\n",
       "      <td>5</td>\n",
       "    </tr>\n",
       "    <tr>\n",
       "      <th>10314</th>\n",
       "      <td>20667.222222</td>\n",
       "      <td>22122.193444</td>\n",
       "      <td>46453.964000</td>\n",
       "      <td>regular unleaded</td>\n",
       "      <td>179.0</td>\n",
       "      <td>4.0</td>\n",
       "      <td>MANUAL</td>\n",
       "      <td>front wheel drive</td>\n",
       "      <td>2.0</td>\n",
       "      <td>Compact</td>\n",
       "      <td>2dr Hatchback</td>\n",
       "      <td>31</td>\n",
       "      <td>23</td>\n",
       "      <td>105</td>\n",
       "      <td>7</td>\n",
       "    </tr>\n",
       "  </tbody>\n",
       "</table>\n",
       "</div>"
      ],
      "text/plain": [
       "               Make         Model          Year             Engine Fuel Type  \\\n",
       "8844   26883.135338  36104.081086  46537.842105  premium unleaded (required)   \n",
       "5311   67738.416342  86378.562065  47835.476760  premium unleaded (required)   \n",
       "8098   23185.543182   2024.001583   2085.166667             regular unleaded   \n",
       "3982   27766.924812  40106.538563  42900.100349     flex-fuel (unleaded/E85)   \n",
       "10314  20667.222222  22122.193444  46453.964000             regular unleaded   \n",
       "\n",
       "       Engine HP  Engine Cylinders Transmission Type      Driven_Wheels  \\\n",
       "8844       237.0               4.0            MANUAL   rear wheel drive   \n",
       "5311       577.0               8.0         AUTOMATIC    all wheel drive   \n",
       "8098       180.0               6.0            MANUAL   rear wheel drive   \n",
       "3982       197.0               4.0         AUTOMATIC  front wheel drive   \n",
       "10314      179.0               4.0            MANUAL  front wheel drive   \n",
       "\n",
       "       Number of Doors Vehicle Size       Vehicle Style  highway MPG  \\\n",
       "8844               2.0      Compact         Convertible           25   \n",
       "5311               4.0      Midsize             4dr SUV           18   \n",
       "8098               2.0        Large  Regular Cab Pickup           17   \n",
       "3982               4.0      Midsize             4dr SUV           29   \n",
       "10314              2.0      Compact       2dr Hatchback           31   \n",
       "\n",
       "       city mpg  Popularity  Years Of Manufacture  \n",
       "8844         18        2202                    14  \n",
       "5311         14         617                     6  \n",
       "8098         13        1851                    30  \n",
       "3982         22         155                     5  \n",
       "10314        23         105                     7  "
      ]
     },
     "execution_count": 86,
     "metadata": {},
     "output_type": "execute_result"
    }
   ],
   "source": [
    "X_train.head()"
   ]
  },
  {
   "cell_type": "code",
   "execution_count": 87,
   "id": "b1f0168d",
   "metadata": {},
   "outputs": [],
   "source": [
    "#creating dummy variable foe categorical columns\n",
    "encoder = OneHotEncoder()\n",
    "encoder.fit(X_train[['Engine Fuel Type', 'Transmission Type', 'Driven_Wheels', 'Vehicle Size', 'Vehicle Style']])\n",
    "one_hot_encoded_output_train = encoder.transform(X_train[['Engine Fuel Type', 'Transmission Type', 'Driven_Wheels', 'Vehicle Size', 'Vehicle Style']])\n",
    "one_hot_encoded_output_test = encoder.transform(X_test[['Engine Fuel Type', 'Transmission Type', 'Driven_Wheels', 'Vehicle Size', 'Vehicle Style']])"
   ]
  },
  {
   "cell_type": "code",
   "execution_count": 88,
   "id": "c705fda3",
   "metadata": {},
   "outputs": [],
   "source": [
    "X_train = pd.concat([X_train, one_hot_encoded_output_train], axis = 1)\n",
    "X_test = pd.concat([X_test, one_hot_encoded_output_test], axis = 1)"
   ]
  },
  {
   "cell_type": "code",
   "execution_count": 89,
   "id": "3ce1a3ed",
   "metadata": {},
   "outputs": [],
   "source": [
    "X_train.drop(['Engine Fuel Type', 'Transmission Type', 'Driven_Wheels', 'Vehicle Size', 'Vehicle Style'], axis = 1, inplace = True)\n",
    "X_test.drop(['Engine Fuel Type', 'Transmission Type', 'Driven_Wheels', 'Vehicle Size', 'Vehicle Style'], axis = 1, inplace = True)"
   ]
  },
  {
   "cell_type": "code",
   "execution_count": 90,
   "id": "bd550688",
   "metadata": {},
   "outputs": [
    {
     "data": {
      "text/html": [
       "<div>\n",
       "<style scoped>\n",
       "    .dataframe tbody tr th:only-of-type {\n",
       "        vertical-align: middle;\n",
       "    }\n",
       "\n",
       "    .dataframe tbody tr th {\n",
       "        vertical-align: top;\n",
       "    }\n",
       "\n",
       "    .dataframe thead th {\n",
       "        text-align: right;\n",
       "    }\n",
       "</style>\n",
       "<table border=\"1\" class=\"dataframe\">\n",
       "  <thead>\n",
       "    <tr style=\"text-align: right;\">\n",
       "      <th></th>\n",
       "      <th>Make</th>\n",
       "      <th>Model</th>\n",
       "      <th>Year</th>\n",
       "      <th>Engine HP</th>\n",
       "      <th>Engine Cylinders</th>\n",
       "      <th>Number of Doors</th>\n",
       "      <th>highway MPG</th>\n",
       "      <th>city mpg</th>\n",
       "      <th>Popularity</th>\n",
       "      <th>Years Of Manufacture</th>\n",
       "      <th>...</th>\n",
       "      <th>Vehicle Style_7</th>\n",
       "      <th>Vehicle Style_8</th>\n",
       "      <th>Vehicle Style_9</th>\n",
       "      <th>Vehicle Style_10</th>\n",
       "      <th>Vehicle Style_11</th>\n",
       "      <th>Vehicle Style_12</th>\n",
       "      <th>Vehicle Style_13</th>\n",
       "      <th>Vehicle Style_14</th>\n",
       "      <th>Vehicle Style_15</th>\n",
       "      <th>Vehicle Style_16</th>\n",
       "    </tr>\n",
       "  </thead>\n",
       "  <tbody>\n",
       "    <tr>\n",
       "      <th>8844</th>\n",
       "      <td>26883.135338</td>\n",
       "      <td>36104.081086</td>\n",
       "      <td>46537.842105</td>\n",
       "      <td>237.0</td>\n",
       "      <td>4.0</td>\n",
       "      <td>2.0</td>\n",
       "      <td>25</td>\n",
       "      <td>18</td>\n",
       "      <td>2202</td>\n",
       "      <td>14</td>\n",
       "      <td>...</td>\n",
       "      <td>0</td>\n",
       "      <td>0</td>\n",
       "      <td>0</td>\n",
       "      <td>0</td>\n",
       "      <td>0</td>\n",
       "      <td>0</td>\n",
       "      <td>0</td>\n",
       "      <td>0</td>\n",
       "      <td>0</td>\n",
       "      <td>0</td>\n",
       "    </tr>\n",
       "    <tr>\n",
       "      <th>5311</th>\n",
       "      <td>67738.416342</td>\n",
       "      <td>86378.562065</td>\n",
       "      <td>47835.476760</td>\n",
       "      <td>577.0</td>\n",
       "      <td>8.0</td>\n",
       "      <td>4.0</td>\n",
       "      <td>18</td>\n",
       "      <td>14</td>\n",
       "      <td>617</td>\n",
       "      <td>6</td>\n",
       "      <td>...</td>\n",
       "      <td>0</td>\n",
       "      <td>0</td>\n",
       "      <td>0</td>\n",
       "      <td>0</td>\n",
       "      <td>0</td>\n",
       "      <td>0</td>\n",
       "      <td>0</td>\n",
       "      <td>0</td>\n",
       "      <td>0</td>\n",
       "      <td>0</td>\n",
       "    </tr>\n",
       "    <tr>\n",
       "      <th>8098</th>\n",
       "      <td>23185.543182</td>\n",
       "      <td>2024.001583</td>\n",
       "      <td>2085.166667</td>\n",
       "      <td>180.0</td>\n",
       "      <td>6.0</td>\n",
       "      <td>2.0</td>\n",
       "      <td>17</td>\n",
       "      <td>13</td>\n",
       "      <td>1851</td>\n",
       "      <td>30</td>\n",
       "      <td>...</td>\n",
       "      <td>0</td>\n",
       "      <td>0</td>\n",
       "      <td>0</td>\n",
       "      <td>0</td>\n",
       "      <td>0</td>\n",
       "      <td>0</td>\n",
       "      <td>0</td>\n",
       "      <td>0</td>\n",
       "      <td>0</td>\n",
       "      <td>0</td>\n",
       "    </tr>\n",
       "    <tr>\n",
       "      <th>3982</th>\n",
       "      <td>27766.924812</td>\n",
       "      <td>40106.538563</td>\n",
       "      <td>42900.100349</td>\n",
       "      <td>197.0</td>\n",
       "      <td>4.0</td>\n",
       "      <td>4.0</td>\n",
       "      <td>29</td>\n",
       "      <td>22</td>\n",
       "      <td>155</td>\n",
       "      <td>5</td>\n",
       "      <td>...</td>\n",
       "      <td>0</td>\n",
       "      <td>0</td>\n",
       "      <td>0</td>\n",
       "      <td>0</td>\n",
       "      <td>0</td>\n",
       "      <td>0</td>\n",
       "      <td>0</td>\n",
       "      <td>0</td>\n",
       "      <td>0</td>\n",
       "      <td>0</td>\n",
       "    </tr>\n",
       "    <tr>\n",
       "      <th>10314</th>\n",
       "      <td>20667.222222</td>\n",
       "      <td>22122.193444</td>\n",
       "      <td>46453.964000</td>\n",
       "      <td>179.0</td>\n",
       "      <td>4.0</td>\n",
       "      <td>2.0</td>\n",
       "      <td>31</td>\n",
       "      <td>23</td>\n",
       "      <td>105</td>\n",
       "      <td>7</td>\n",
       "      <td>...</td>\n",
       "      <td>0</td>\n",
       "      <td>0</td>\n",
       "      <td>0</td>\n",
       "      <td>0</td>\n",
       "      <td>0</td>\n",
       "      <td>0</td>\n",
       "      <td>0</td>\n",
       "      <td>0</td>\n",
       "      <td>0</td>\n",
       "      <td>0</td>\n",
       "    </tr>\n",
       "  </tbody>\n",
       "</table>\n",
       "<p>5 rows × 47 columns</p>\n",
       "</div>"
      ],
      "text/plain": [
       "               Make         Model          Year  Engine HP  Engine Cylinders  \\\n",
       "8844   26883.135338  36104.081086  46537.842105      237.0               4.0   \n",
       "5311   67738.416342  86378.562065  47835.476760      577.0               8.0   \n",
       "8098   23185.543182   2024.001583   2085.166667      180.0               6.0   \n",
       "3982   27766.924812  40106.538563  42900.100349      197.0               4.0   \n",
       "10314  20667.222222  22122.193444  46453.964000      179.0               4.0   \n",
       "\n",
       "       Number of Doors  highway MPG  city mpg  Popularity  \\\n",
       "8844               2.0           25        18        2202   \n",
       "5311               4.0           18        14         617   \n",
       "8098               2.0           17        13        1851   \n",
       "3982               4.0           29        22         155   \n",
       "10314              2.0           31        23         105   \n",
       "\n",
       "       Years Of Manufacture  ...  Vehicle Style_7  Vehicle Style_8  \\\n",
       "8844                     14  ...                0                0   \n",
       "5311                      6  ...                0                0   \n",
       "8098                     30  ...                0                0   \n",
       "3982                      5  ...                0                0   \n",
       "10314                     7  ...                0                0   \n",
       "\n",
       "       Vehicle Style_9  Vehicle Style_10  Vehicle Style_11  Vehicle Style_12  \\\n",
       "8844                 0                 0                 0                 0   \n",
       "5311                 0                 0                 0                 0   \n",
       "8098                 0                 0                 0                 0   \n",
       "3982                 0                 0                 0                 0   \n",
       "10314                0                 0                 0                 0   \n",
       "\n",
       "       Vehicle Style_13  Vehicle Style_14  Vehicle Style_15  Vehicle Style_16  \n",
       "8844                  0                 0                 0                 0  \n",
       "5311                  0                 0                 0                 0  \n",
       "8098                  0                 0                 0                 0  \n",
       "3982                  0                 0                 0                 0  \n",
       "10314                 0                 0                 0                 0  \n",
       "\n",
       "[5 rows x 47 columns]"
      ]
     },
     "execution_count": 90,
     "metadata": {},
     "output_type": "execute_result"
    }
   ],
   "source": [
    "X_train.head()"
   ]
  },
  {
   "cell_type": "code",
   "execution_count": 92,
   "id": "3e728101",
   "metadata": {},
   "outputs": [],
   "source": [
    "#normalizing the data\n",
    "scaler = MinMaxScaler()\n",
    "scaler.fit(X_train)\n",
    "X_train_1 = scaler.transform(X_train)\n",
    "X_test_1 = scaler.transform(X_test)"
   ]
  },
  {
   "cell_type": "code",
   "execution_count": 93,
   "id": "a40fbae2",
   "metadata": {},
   "outputs": [
    {
     "data": {
      "text/plain": [
       "(8193, 47)"
      ]
     },
     "execution_count": 93,
     "metadata": {},
     "output_type": "execute_result"
    }
   ],
   "source": [
    "X_train_1.shape"
   ]
  },
  {
   "cell_type": "code",
   "execution_count": 94,
   "id": "2c87c0d4",
   "metadata": {},
   "outputs": [
    {
     "data": {
      "text/plain": [
       "LinearRegression()"
      ]
     },
     "execution_count": 94,
     "metadata": {},
     "output_type": "execute_result"
    }
   ],
   "source": [
    "#linear Regression\n",
    "model = LinearRegression()\n",
    "model.fit(X_train_new, y_train)"
   ]
  },
  {
   "cell_type": "code",
   "execution_count": 95,
   "id": "94fb5312",
   "metadata": {},
   "outputs": [],
   "source": [
    "y_predict = model.predict(X_test_1)"
   ]
  },
  {
   "cell_type": "code",
   "execution_count": 96,
   "id": "1f1e7eee",
   "metadata": {},
   "outputs": [],
   "source": [
    "y_predict = pd.DataFrame(y_predict, columns = ['Predicted Output'])"
   ]
  },
  {
   "cell_type": "code",
   "execution_count": 97,
   "id": "e3654c1c",
   "metadata": {},
   "outputs": [
    {
     "data": {
      "text/html": [
       "<div>\n",
       "<style scoped>\n",
       "    .dataframe tbody tr th:only-of-type {\n",
       "        vertical-align: middle;\n",
       "    }\n",
       "\n",
       "    .dataframe tbody tr th {\n",
       "        vertical-align: top;\n",
       "    }\n",
       "\n",
       "    .dataframe thead th {\n",
       "        text-align: right;\n",
       "    }\n",
       "</style>\n",
       "<table border=\"1\" class=\"dataframe\">\n",
       "  <thead>\n",
       "    <tr style=\"text-align: right;\">\n",
       "      <th></th>\n",
       "      <th>Predicted Output</th>\n",
       "    </tr>\n",
       "  </thead>\n",
       "  <tbody>\n",
       "    <tr>\n",
       "      <th>0</th>\n",
       "      <td>18989.487373</td>\n",
       "    </tr>\n",
       "    <tr>\n",
       "      <th>1</th>\n",
       "      <td>3548.955374</td>\n",
       "    </tr>\n",
       "    <tr>\n",
       "      <th>2</th>\n",
       "      <td>70124.659484</td>\n",
       "    </tr>\n",
       "    <tr>\n",
       "      <th>3</th>\n",
       "      <td>16956.845456</td>\n",
       "    </tr>\n",
       "    <tr>\n",
       "      <th>4</th>\n",
       "      <td>287313.905161</td>\n",
       "    </tr>\n",
       "  </tbody>\n",
       "</table>\n",
       "</div>"
      ],
      "text/plain": [
       "   Predicted Output\n",
       "0      18989.487373\n",
       "1       3548.955374\n",
       "2      70124.659484\n",
       "3      16956.845456\n",
       "4     287313.905161"
      ]
     },
     "execution_count": 97,
     "metadata": {},
     "output_type": "execute_result"
    }
   ],
   "source": [
    "y_predict.head()"
   ]
  },
  {
   "cell_type": "code",
   "execution_count": 101,
   "id": "e4270e0a",
   "metadata": {},
   "outputs": [],
   "source": [
    "results = pd.concat([y_predict, y_test.to_frame().reset_index(drop = True)], axis = 1, ignore_index = False)"
   ]
  },
  {
   "cell_type": "code",
   "execution_count": 103,
   "id": "17f3fed2",
   "metadata": {},
   "outputs": [
    {
     "data": {
      "image/png": "[encoded data removed]",
      "text/plain": [
       "<Figure size 720x720 with 1 Axes>"
      ]
     },
     "metadata": {},
     "output_type": "display_data"
    }
   ],
   "source": [
    "plt.figure(figsize = (10, 10))\n",
    "sns.regplot(data = results, y = 'Predicted Output', x = 'MSRP', color = 'blue', marker = 'o')\n",
    "plt.title(\"Comparision of predicted values and the actual values\", fontsize = 20)\n",
    "plt.show()"
   ]
  },
  {
   "cell_type": "code",
   "execution_count": 105,
   "id": "39ebb27a",
   "metadata": {},
   "outputs": [],
   "source": [
    "#Support vector machnine\n",
    "model = SVR()\n",
    "model.fit(X_train_new, y_train)\n",
    "y_predict = model.predict(X_test_new)\n",
    "y_predict = pd.DataFrame(y_predict, columns = ['Predicted Output'])\n",
    "results = pd.concat([y_predict, y_test.to_frame().reset_index(drop =True)], axis = 1, ignore_index = False)"
   ]
  },
  {
   "cell_type": "code",
   "execution_count": 106,
   "id": "fbfe9a84",
   "metadata": {},
   "outputs": [
    {
     "data": {
      "image/png": "[encoded data removed]",
      "text/plain": [
       "<Figure size 720x720 with 1 Axes>"
      ]
     },
     "metadata": {},
     "output_type": "display_data"
    }
   ],
   "source": [
    "plt.figure(figsize = (10, 10))\n",
    "sns.regplot(data = results, y = 'Predicted Output', x = 'MSRP', color = 'red', marker = 'o')\n",
    "plt.title(\"Comparision of predicted values and the actual values\", fontsize = 20)\n",
    "plt.show()"
   ]
  },
  {
   "cell_type": "code",
   "execution_count": 108,
   "id": "54b34986",
   "metadata": {},
   "outputs": [],
   "source": [
    "#K-nearest neighbors\n",
    "model = KNeighborsRegressor(n_neighbors = 2)\n",
    "model.fit(X_train_new, y_train)\n",
    "y_predict = model.predict(X_test_new)\n",
    "y_predict = pd.DataFrame(y_predict, columns = ['Predicted Output'])\n",
    "results = pd.concat([y_predict, y_test.to_frame().reset_index(drop = True)], axis = 1, ignore_index = False)"
   ]
  },
  {
   "cell_type": "code",
   "execution_count": 109,
   "id": "2c63094f",
   "metadata": {},
   "outputs": [
    {
     "data": {
      "image/png": "[encoded data removed]",
      "text/plain": [
       "<Figure size 720x720 with 1 Axes>"
      ]
     },
     "metadata": {},
     "output_type": "display_data"
    }
   ],
   "source": [
    "plt.figure(figsize = (10, 10))\n",
    "sns.regplot(data = results, y = 'Predicted Output', x = 'MSRP', color = 'darkslateblue', marker = 'o')\n",
    "plt.title(\"Comparision of predicted values and the actual values\", fontsize = 20)\n",
    "plt.show()"
   ]
  },
  {
   "cell_type": "code",
   "execution_count": null,
   "id": "b94a51ab",
   "metadata": {},
   "outputs": [],
   "source": []
  },
  {
   "cell_type": "code",
   "execution_count": null,
   "id": "b745de7c",
   "metadata": {},
   "outputs": [],
   "source": []
  }
 ],
 "metadata": {
  "kernelspec": {
   "display_name": "Python 3 (ipykernel)",
   "language": "python",
   "name": "python3"
  },
  "language_info": {
   "codemirror_mode": {
    "name": "ipython",
    "version": 3
   },
   "file_extension": ".py",
   "mimetype": "text/x-python",
   "name": "python",
   "nbconvert_exporter": "python",
   "pygments_lexer": "ipython3",
   "version": "3.9.12"
  }
 },
 "nbformat": 4,
 "nbformat_minor": 5
}
